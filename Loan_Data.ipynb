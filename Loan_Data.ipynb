{
 "cells": [
  {
   "cell_type": "markdown",
   "id": "6abb1540-f9c9-4f7e-8ccf-2af5f23c7385",
   "metadata": {},
   "source": [
    "#### Importing Packages"
   ]
  },
  {
   "cell_type": "code",
   "execution_count": 1,
   "id": "ad03baf9-336a-4dab-9808-eb0bf30a2853",
   "metadata": {},
   "outputs": [],
   "source": [
    "import numpy as np"
   ]
  },
  {
   "cell_type": "code",
   "execution_count": 2,
   "id": "6e83e88a-a363-48af-900e-95123fd8741e",
   "metadata": {},
   "outputs": [],
   "source": [
    "np.set_printoptions(suppress= True, linewidth= 100, precision= 2)"
   ]
  },
  {
   "cell_type": "markdown",
   "id": "bc2459b0-dee4-4612-8fc6-18a069241c5a",
   "metadata": {},
   "source": [
    "##### Importing Data"
   ]
  },
  {
   "cell_type": "code",
   "execution_count": 3,
   "id": "cc98d0ed-f0bd-4b61-854e-24f162503d4a",
   "metadata": {},
   "outputs": [
    {
     "data": {
      "text/plain": [
       "array([[48010226.  ,         nan,    35000.  , ...,         nan,         nan,     9452.96],\n",
       "       [57693261.  ,         nan,    30000.  , ...,         nan,         nan,     4679.7 ],\n",
       "       [59432726.  ,         nan,    15000.  , ...,         nan,         nan,     1969.83],\n",
       "       ...,\n",
       "       [50415990.  ,         nan,    10000.  , ...,         nan,         nan,     2185.64],\n",
       "       [46154151.  ,         nan,         nan, ...,         nan,         nan,     3199.4 ],\n",
       "       [66055249.  ,         nan,    10000.  , ...,         nan,         nan,      301.9 ]])"
      ]
     },
     "execution_count": 3,
     "metadata": {},
     "output_type": "execute_result"
    }
   ],
   "source": [
    "raw_data= np.genfromtxt('loan-data.csv', delimiter= ';', skip_header= True, autostrip= True)\n",
    "raw_data"
   ]
  },
  {
   "cell_type": "markdown",
   "id": "8681df97-67a0-4358-a67a-b2ce162afc53",
   "metadata": {},
   "source": [
    "##### Checking Incomplete Data"
   ]
  },
  {
   "cell_type": "code",
   "execution_count": 4,
   "id": "8322b90b-7767-44a0-becb-ab237c0298ba",
   "metadata": {},
   "outputs": [
    {
     "data": {
      "text/plain": [
       "88005"
      ]
     },
     "execution_count": 4,
     "metadata": {},
     "output_type": "execute_result"
    }
   ],
   "source": [
    "np.isnan(raw_data).sum()"
   ]
  },
  {
   "cell_type": "code",
   "execution_count": 5,
   "id": "a2c3ff1d-884a-4a46-9886-47e80dcc9800",
   "metadata": {},
   "outputs": [
    {
     "name": "stderr",
     "output_type": "stream",
     "text": [
      "C:\\Users\\Joe Ndege\\AppData\\Local\\Temp\\ipykernel_6828\\1564219946.py:2: RuntimeWarning: Mean of empty slice\n",
      "  temporary_mean= np.nanmean(raw_data, axis= 0)\n"
     ]
    }
   ],
   "source": [
    "temporary_fill= np.nanmax(raw_data)+ 1\n",
    "temporary_mean= np.nanmean(raw_data, axis= 0)"
   ]
  },
  {
   "cell_type": "code",
   "execution_count": 6,
   "id": "e71baaa9-79b6-4584-b226-5258d25768e3",
   "metadata": {},
   "outputs": [
    {
     "data": {
      "text/plain": [
       "array([54015809.19,         nan,    15273.46,         nan,    15311.04,         nan,       16.62,\n",
       "            440.92,         nan,         nan,         nan,         nan,         nan,     3143.85])"
      ]
     },
     "execution_count": 6,
     "metadata": {},
     "output_type": "execute_result"
    }
   ],
   "source": [
    "temporary_mean"
   ]
  },
  {
   "cell_type": "code",
   "execution_count": 7,
   "id": "b6d76ba7-6e70-46af-b486-864dbd53ec5e",
   "metadata": {},
   "outputs": [
    {
     "name": "stderr",
     "output_type": "stream",
     "text": [
      "C:\\Users\\Joe Ndege\\AppData\\Local\\Temp\\ipykernel_6828\\1631963745.py:1: RuntimeWarning: All-NaN slice encountered\n",
      "  temporary_stats= np.array([np.nanmin(raw_data, axis= 0),\n",
      "C:\\Users\\Joe Ndege\\AppData\\Local\\Temp\\ipykernel_6828\\1631963745.py:3: RuntimeWarning: All-NaN slice encountered\n",
      "  np.nanmax(raw_data, axis= 0)])\n"
     ]
    }
   ],
   "source": [
    "temporary_stats= np.array([np.nanmin(raw_data, axis= 0), \n",
    "                           temporary_mean, \n",
    "                           np.nanmax(raw_data, axis= 0)])"
   ]
  },
  {
   "cell_type": "code",
   "execution_count": 8,
   "id": "4308e3c1-7852-49c0-a30d-3d87a4b22b69",
   "metadata": {},
   "outputs": [
    {
     "data": {
      "text/plain": [
       "array([[  373332.  ,         nan,     1000.  ,         nan,     1000.  ,         nan,        6.  ,\n",
       "              31.42,         nan,         nan,         nan,         nan,         nan,        0.  ],\n",
       "       [54015809.19,         nan,    15273.46,         nan,    15311.04,         nan,       16.62,\n",
       "             440.92,         nan,         nan,         nan,         nan,         nan,     3143.85],\n",
       "       [68616519.  ,         nan,    35000.  ,         nan,    35000.  ,         nan,       28.99,\n",
       "            1372.97,         nan,         nan,         nan,         nan,         nan,    41913.62]])"
      ]
     },
     "execution_count": 8,
     "metadata": {},
     "output_type": "execute_result"
    }
   ],
   "source": [
    "temporary_stats"
   ]
  },
  {
   "cell_type": "markdown",
   "id": "6cebd821-9edc-443b-8b6d-38c8f7fcb396",
   "metadata": {},
   "source": [
    "##### Splitting Data (Numerical & Strings)"
   ]
  },
  {
   "cell_type": "code",
   "execution_count": 9,
   "id": "60eb2b6e-6b04-455a-bc1d-d4fa5fc93bbb",
   "metadata": {},
   "outputs": [
    {
     "data": {
      "text/plain": [
       "array([ 1,  3,  5,  8,  9, 10, 11, 12], dtype=int64)"
      ]
     },
     "execution_count": 9,
     "metadata": {},
     "output_type": "execute_result"
    }
   ],
   "source": [
    "column_strings= np.argwhere(np.isnan(temporary_mean)).squeeze()\n",
    "column_strings"
   ]
  },
  {
   "cell_type": "code",
   "execution_count": 10,
   "id": "e93bbe05-8562-4ab0-9130-6c4f0016bbdb",
   "metadata": {},
   "outputs": [
    {
     "data": {
      "text/plain": [
       "array([ 0,  2,  4,  6,  7, 13], dtype=int64)"
      ]
     },
     "execution_count": 10,
     "metadata": {},
     "output_type": "execute_result"
    }
   ],
   "source": [
    "column_numeric= np.argwhere(np.isnan(temporary_mean) == False).squeeze()\n",
    "column_numeric"
   ]
  },
  {
   "cell_type": "markdown",
   "id": "22ec12a6-2ec2-4b72-bb37-25f448798195",
   "metadata": {},
   "source": [
    "##### Re-Importing the Dataset"
   ]
  },
  {
   "cell_type": "code",
   "execution_count": 11,
   "id": "a672cea1-0bd6-4f7d-b8ee-8363e0329d9d",
   "metadata": {},
   "outputs": [
    {
     "data": {
      "text/plain": [
       "array([['May-15', 'Current', '36 months', ..., 'Verified',\n",
       "        'https://www.lendingclub.com/browse/loanDetail.action?loan_id=48010226', 'CA'],\n",
       "       ['', 'Current', '36 months', ..., 'Source Verified',\n",
       "        'https://www.lendingclub.com/browse/loanDetail.action?loan_id=57693261', 'NY'],\n",
       "       ['Sep-15', 'Current', '36 months', ..., 'Verified',\n",
       "        'https://www.lendingclub.com/browse/loanDetail.action?loan_id=59432726', 'PA'],\n",
       "       ...,\n",
       "       ['Jun-15', 'Current', '36 months', ..., 'Source Verified',\n",
       "        'https://www.lendingclub.com/browse/loanDetail.action?loan_id=50415990', 'CA'],\n",
       "       ['Apr-15', 'Current', '36 months', ..., 'Source Verified',\n",
       "        'https://www.lendingclub.com/browse/loanDetail.action?loan_id=46154151', 'OH'],\n",
       "       ['Dec-15', 'Current', '36 months', ..., '',\n",
       "        'https://www.lendingclub.com/browse/loanDetail.action?loan_id=66055249', 'IL']],\n",
       "      dtype='<U69')"
      ]
     },
     "execution_count": 11,
     "metadata": {},
     "output_type": "execute_result"
    }
   ],
   "source": [
    "loan_data_strings= np.genfromtxt('loan-data.csv', \n",
    "                                 delimiter= ';', \n",
    "                                 skip_header= True, \n",
    "                                 autostrip= True, \n",
    "                                 usecols= column_strings, \n",
    "                                 dtype= np.str_)\n",
    "loan_data_strings"
   ]
  },
  {
   "cell_type": "code",
   "execution_count": 12,
   "id": "0c87dda5-bdb1-428c-a3f3-18c76f8433b9",
   "metadata": {},
   "outputs": [
    {
     "data": {
      "text/plain": [
       "array([[48010226.  ,    35000.  ,    35000.  ,       13.33,     1184.86,     9452.96],\n",
       "       [57693261.  ,    30000.  ,    30000.  , 68616520.  ,      938.57,     4679.7 ],\n",
       "       [59432726.  ,    15000.  ,    15000.  , 68616520.  ,      494.86,     1969.83],\n",
       "       ...,\n",
       "       [50415990.  ,    10000.  ,    10000.  , 68616520.  , 68616520.  ,     2185.64],\n",
       "       [46154151.  , 68616520.  ,    10000.  ,       16.55,      354.3 ,     3199.4 ],\n",
       "       [66055249.  ,    10000.  ,    10000.  , 68616520.  ,      309.97,      301.9 ]])"
      ]
     },
     "execution_count": 12,
     "metadata": {},
     "output_type": "execute_result"
    }
   ],
   "source": [
    "loan_data_numeric= np.genfromtxt('loan-data.csv', \n",
    "                                 delimiter= ';', \n",
    "                                 skip_header= True, \n",
    "                                 autostrip= True, \n",
    "                                 usecols= column_numeric, \n",
    "                                 filling_values= temporary_fill)\n",
    "loan_data_numeric"
   ]
  },
  {
   "cell_type": "code",
   "execution_count": 13,
   "id": "1e550c02-ef79-4137-af25-66b28433dbee",
   "metadata": {},
   "outputs": [
    {
     "data": {
      "text/plain": [
       "array(['id', 'issue_d', 'loan_amnt', 'loan_status', 'funded_amnt', 'term', 'int_rate',\n",
       "       'installment', 'grade', 'sub_grade', 'verification_status', 'url', 'addr_state',\n",
       "       'total_pymnt'], dtype='<U19')"
      ]
     },
     "execution_count": 13,
     "metadata": {},
     "output_type": "execute_result"
    }
   ],
   "source": [
    "header_full= np.genfromtxt('loan-data.csv', \n",
    "                           delimiter= ';',\n",
    "                           skip_footer= raw_data.shape[0], \n",
    "                           autostrip= True, \n",
    "                           dtype= np.str_)\n",
    "header_full"
   ]
  },
  {
   "cell_type": "code",
   "execution_count": 14,
   "id": "29634dc0-3af1-4d2e-8db4-b38e99c7d8c2",
   "metadata": {},
   "outputs": [
    {
     "data": {
      "text/plain": [
       "array(['issue_d', 'loan_status', 'term', 'grade', 'sub_grade', 'verification_status', 'url',\n",
       "       'addr_state'], dtype='<U19')"
      ]
     },
     "execution_count": 14,
     "metadata": {},
     "output_type": "execute_result"
    }
   ],
   "source": [
    "header_strings, header_numeric= header_full[column_strings], header_full[column_numeric]\n",
    "header_strings"
   ]
  },
  {
   "cell_type": "code",
   "execution_count": 15,
   "id": "e5466c28-395e-4229-9a7e-cfcc364d8237",
   "metadata": {},
   "outputs": [
    {
     "data": {
      "text/plain": [
       "array(['id', 'loan_amnt', 'funded_amnt', 'int_rate', 'installment', 'total_pymnt'], dtype='<U19')"
      ]
     },
     "execution_count": 15,
     "metadata": {},
     "output_type": "execute_result"
    }
   ],
   "source": [
    "header_numeric"
   ]
  },
  {
   "cell_type": "code",
   "execution_count": 16,
   "id": "fdb75cc3-b45a-4854-a2e5-536085f21760",
   "metadata": {},
   "outputs": [],
   "source": [
    "def checkpoint(filename, checkpoint_header, checkpoint_data):\n",
    "    np.savez(filename, header= checkpoint_header, data= checkpoint_data)\n",
    "    checkpoint_variable= np.load(filename + '.npz')\n",
    "    return checkpoint_variable"
   ]
  },
  {
   "cell_type": "code",
   "execution_count": 17,
   "id": "fe3a7ffc-5a61-406a-9d4d-2c6de29ee073",
   "metadata": {},
   "outputs": [],
   "source": [
    "checkpoint_strings= checkpoint('checkpoint_strings', header_strings, loan_data_strings)"
   ]
  },
  {
   "cell_type": "code",
   "execution_count": 18,
   "id": "a161be47-7c34-4f20-a8db-f787efdc33bc",
   "metadata": {},
   "outputs": [
    {
     "data": {
      "text/plain": [
       "array(['issue_d', 'loan_status', 'term', 'grade', 'sub_grade', 'verification_status', 'url',\n",
       "       'addr_state'], dtype='<U19')"
      ]
     },
     "execution_count": 18,
     "metadata": {},
     "output_type": "execute_result"
    }
   ],
   "source": [
    "checkpoint_strings['header']"
   ]
  },
  {
   "cell_type": "code",
   "execution_count": 19,
   "id": "972aea89-9392-4f10-992d-5166ab7063d4",
   "metadata": {},
   "outputs": [
    {
     "data": {
      "text/plain": [
       "array([['May-15', 'Current', '36 months', ..., 'Verified',\n",
       "        'https://www.lendingclub.com/browse/loanDetail.action?loan_id=48010226', 'CA'],\n",
       "       ['', 'Current', '36 months', ..., 'Source Verified',\n",
       "        'https://www.lendingclub.com/browse/loanDetail.action?loan_id=57693261', 'NY'],\n",
       "       ['Sep-15', 'Current', '36 months', ..., 'Verified',\n",
       "        'https://www.lendingclub.com/browse/loanDetail.action?loan_id=59432726', 'PA'],\n",
       "       ...,\n",
       "       ['Jun-15', 'Current', '36 months', ..., 'Source Verified',\n",
       "        'https://www.lendingclub.com/browse/loanDetail.action?loan_id=50415990', 'CA'],\n",
       "       ['Apr-15', 'Current', '36 months', ..., 'Source Verified',\n",
       "        'https://www.lendingclub.com/browse/loanDetail.action?loan_id=46154151', 'OH'],\n",
       "       ['Dec-15', 'Current', '36 months', ..., '',\n",
       "        'https://www.lendingclub.com/browse/loanDetail.action?loan_id=66055249', 'IL']],\n",
       "      dtype='<U69')"
      ]
     },
     "execution_count": 19,
     "metadata": {},
     "output_type": "execute_result"
    }
   ],
   "source": [
    "checkpoint_strings['data']"
   ]
  },
  {
   "cell_type": "code",
   "execution_count": 20,
   "id": "812a79c2-8880-459e-85be-317d82743fcf",
   "metadata": {},
   "outputs": [
    {
     "data": {
      "text/plain": [
       "array(['id', 'loan_amnt', 'funded_amnt', 'int_rate', 'installment', 'total_pymnt'], dtype='<U19')"
      ]
     },
     "execution_count": 20,
     "metadata": {},
     "output_type": "execute_result"
    }
   ],
   "source": [
    "checkpoint_numeric= checkpoint('checkpoint_numeric', header_numeric, loan_data_numeric)\n",
    "checkpoint_numeric['header']"
   ]
  },
  {
   "cell_type": "code",
   "execution_count": 21,
   "id": "980788b2-b358-4932-9522-ccd659998f3a",
   "metadata": {},
   "outputs": [
    {
     "data": {
      "text/plain": [
       "array([[48010226.  ,    35000.  ,    35000.  ,       13.33,     1184.86,     9452.96],\n",
       "       [57693261.  ,    30000.  ,    30000.  , 68616520.  ,      938.57,     4679.7 ],\n",
       "       [59432726.  ,    15000.  ,    15000.  , 68616520.  ,      494.86,     1969.83],\n",
       "       ...,\n",
       "       [50415990.  ,    10000.  ,    10000.  , 68616520.  , 68616520.  ,     2185.64],\n",
       "       [46154151.  , 68616520.  ,    10000.  ,       16.55,      354.3 ,     3199.4 ],\n",
       "       [66055249.  ,    10000.  ,    10000.  , 68616520.  ,      309.97,      301.9 ]])"
      ]
     },
     "execution_count": 21,
     "metadata": {},
     "output_type": "execute_result"
    }
   ],
   "source": [
    "checkpoint_numeric['data']"
   ]
  },
  {
   "cell_type": "code",
   "execution_count": 22,
   "id": "d05efcbf-1862-4468-8fe6-5b8414863eb8",
   "metadata": {},
   "outputs": [
    {
     "data": {
      "text/plain": [
       "True"
      ]
     },
     "execution_count": 22,
     "metadata": {},
     "output_type": "execute_result"
    }
   ],
   "source": [
    "np.array_equal(checkpoint_numeric['data'], loan_data_numeric)"
   ]
  },
  {
   "cell_type": "code",
   "execution_count": 23,
   "id": "5be0b4d3-078e-4930-9959-87ad6fc0cc76",
   "metadata": {},
   "outputs": [
    {
     "data": {
      "text/plain": [
       "True"
      ]
     },
     "execution_count": 23,
     "metadata": {},
     "output_type": "execute_result"
    }
   ],
   "source": [
    "np.array_equal(checkpoint_strings['header'], header_strings)"
   ]
  },
  {
   "cell_type": "markdown",
   "id": "8ba76313-2de3-4d39-8d72-913f89d7afa3",
   "metadata": {},
   "source": [
    "##### Manupulating Column Strings"
   ]
  },
  {
   "cell_type": "code",
   "execution_count": 24,
   "id": "ce42ff92-3571-4e52-911d-75f9e4615f10",
   "metadata": {},
   "outputs": [
    {
     "data": {
      "text/plain": [
       "array([['May-15', 'Current', '36 months', ..., 'Verified',\n",
       "        'https://www.lendingclub.com/browse/loanDetail.action?loan_id=48010226', 'CA'],\n",
       "       ['', 'Current', '36 months', ..., 'Source Verified',\n",
       "        'https://www.lendingclub.com/browse/loanDetail.action?loan_id=57693261', 'NY'],\n",
       "       ['Sep-15', 'Current', '36 months', ..., 'Verified',\n",
       "        'https://www.lendingclub.com/browse/loanDetail.action?loan_id=59432726', 'PA'],\n",
       "       ...,\n",
       "       ['Jun-15', 'Current', '36 months', ..., 'Source Verified',\n",
       "        'https://www.lendingclub.com/browse/loanDetail.action?loan_id=50415990', 'CA'],\n",
       "       ['Apr-15', 'Current', '36 months', ..., 'Source Verified',\n",
       "        'https://www.lendingclub.com/browse/loanDetail.action?loan_id=46154151', 'OH'],\n",
       "       ['Dec-15', 'Current', '36 months', ..., '',\n",
       "        'https://www.lendingclub.com/browse/loanDetail.action?loan_id=66055249', 'IL']],\n",
       "      dtype='<U69')"
      ]
     },
     "execution_count": 24,
     "metadata": {},
     "output_type": "execute_result"
    }
   ],
   "source": [
    "loan_data_strings"
   ]
  },
  {
   "cell_type": "code",
   "execution_count": 25,
   "id": "e4c36b8c-e836-4772-8dec-dee85720a9da",
   "metadata": {},
   "outputs": [
    {
     "data": {
      "text/plain": [
       "array(['issue_d', 'loan_status', 'term', 'grade', 'sub_grade', 'verification_status', 'url',\n",
       "       'addr_state'], dtype='<U19')"
      ]
     },
     "execution_count": 25,
     "metadata": {},
     "output_type": "execute_result"
    }
   ],
   "source": [
    "header_strings"
   ]
  },
  {
   "cell_type": "code",
   "execution_count": 26,
   "id": "fe36fd9f-efe7-4db2-b16f-6dddee225837",
   "metadata": {},
   "outputs": [
    {
     "data": {
      "text/plain": [
       "array(['issue_date', 'loan_status', 'term', 'grade', 'sub_grade', 'verification_status', 'url',\n",
       "       'addr_state'], dtype='<U19')"
      ]
     },
     "execution_count": 26,
     "metadata": {},
     "output_type": "execute_result"
    }
   ],
   "source": [
    "header_strings[0]= 'issue_date'\n",
    "header_strings"
   ]
  },
  {
   "cell_type": "markdown",
   "id": "22eb5431-6be9-415c-a728-02e97248756a",
   "metadata": {},
   "source": [
    "##### Issue Date"
   ]
  },
  {
   "cell_type": "code",
   "execution_count": 27,
   "id": "4dd6c827-a60a-4fb7-8c47-8fb93e5decf3",
   "metadata": {},
   "outputs": [
    {
     "data": {
      "text/plain": [
       "array(['', 'Apr-15', 'Aug-15', 'Dec-15', 'Feb-15', 'Jan-15', 'Jul-15', 'Jun-15', 'Mar-15',\n",
       "       'May-15', 'Nov-15', 'Oct-15', 'Sep-15'], dtype='<U69')"
      ]
     },
     "execution_count": 27,
     "metadata": {},
     "output_type": "execute_result"
    }
   ],
   "source": [
    "np.unique(loan_data_strings[:,0])"
   ]
  },
  {
   "cell_type": "code",
   "execution_count": 28,
   "id": "d76c0bad-45cb-470f-8ce0-62808e5c009d",
   "metadata": {},
   "outputs": [
    {
     "data": {
      "text/plain": [
       "array(['May', '', 'Sep', ..., 'Jun', 'Apr', 'Dec'], dtype='<U69')"
      ]
     },
     "execution_count": 28,
     "metadata": {},
     "output_type": "execute_result"
    }
   ],
   "source": [
    "loan_data_strings[:,0]= np.chararray.strip(loan_data_strings[:,0], '-15')\n",
    "loan_data_strings[:,0]"
   ]
  },
  {
   "cell_type": "code",
   "execution_count": 29,
   "id": "eec1d34b-d0ba-43a6-9f2d-b35480fe871d",
   "metadata": {},
   "outputs": [
    {
     "data": {
      "text/plain": [
       "array(['', 'Apr', 'Aug', 'Dec', 'Feb', 'Jan', 'Jul', 'Jun', 'Mar', 'May', 'Nov', 'Oct', 'Sep'],\n",
       "      dtype='<U69')"
      ]
     },
     "execution_count": 29,
     "metadata": {},
     "output_type": "execute_result"
    }
   ],
   "source": [
    "np.unique(loan_data_strings[:,0])"
   ]
  },
  {
   "cell_type": "code",
   "execution_count": 30,
   "id": "c6c529dd-6705-4bd4-9cc5-4ff377a8b21a",
   "metadata": {},
   "outputs": [
    {
     "data": {
      "text/plain": [
       "array(['', 'Jan', 'Feb', 'Mar', 'Apr', 'May', 'Jun', 'Jul', 'Aug', 'Sep', 'Oct', 'Nov', 'Dec'],\n",
       "      dtype='<U3')"
      ]
     },
     "execution_count": 30,
     "metadata": {},
     "output_type": "execute_result"
    }
   ],
   "source": [
    "months= np.array(['', 'Jan', 'Feb', 'Mar', 'Apr',  'May', 'Jun',  'Jul', 'Aug', 'Sep', 'Oct', 'Nov', 'Dec' ])\n",
    "months"
   ]
  },
  {
   "cell_type": "code",
   "execution_count": 31,
   "id": "d6e7b5e7-8703-4d6b-86df-e15de1bdf452",
   "metadata": {},
   "outputs": [],
   "source": [
    "for i in range(13):\n",
    "    loan_data_strings[:,0] = np.where(loan_data_strings[:,0] == months[i], \n",
    "                                      i, \n",
    "                                      loan_data_strings[:,0])"
   ]
  },
  {
   "cell_type": "code",
   "execution_count": 32,
   "id": "98687646-9b8e-4ae2-88e1-0fb96e2b521c",
   "metadata": {},
   "outputs": [
    {
     "data": {
      "text/plain": [
       "array(['0', '1', '10', '11', '12', '2', '3', '4', '5', '6', '7', '8', '9'], dtype='<U69')"
      ]
     },
     "execution_count": 32,
     "metadata": {},
     "output_type": "execute_result"
    }
   ],
   "source": [
    "np.unique(loan_data_strings[:,0])"
   ]
  },
  {
   "cell_type": "markdown",
   "id": "7b2bc94c-c402-4f3f-bca2-51d238127845",
   "metadata": {},
   "source": [
    "##### Loan Status"
   ]
  },
  {
   "cell_type": "code",
   "execution_count": 33,
   "id": "db1c243b-2b92-4a83-b0c4-4a9495eb124d",
   "metadata": {},
   "outputs": [
    {
     "data": {
      "text/plain": [
       "'loan_status'"
      ]
     },
     "execution_count": 33,
     "metadata": {},
     "output_type": "execute_result"
    }
   ],
   "source": [
    "header_strings[1]"
   ]
  },
  {
   "cell_type": "code",
   "execution_count": 34,
   "id": "3a605d33-5434-4d8d-a6c8-cf58394c28f1",
   "metadata": {},
   "outputs": [
    {
     "data": {
      "text/plain": [
       "array(['Current', 'Current', 'Current', ..., 'Current', 'Current', 'Current'], dtype='<U69')"
      ]
     },
     "execution_count": 34,
     "metadata": {},
     "output_type": "execute_result"
    }
   ],
   "source": [
    "loan_data_strings[:,1]"
   ]
  },
  {
   "cell_type": "code",
   "execution_count": 35,
   "id": "772052d0-0b45-450a-a821-fb7960e8555c",
   "metadata": {},
   "outputs": [
    {
     "data": {
      "text/plain": [
       "array(['', 'Charged Off', 'Current', 'Default', 'Fully Paid', 'In Grace Period', 'Issued',\n",
       "       'Late (16-30 days)', 'Late (31-120 days)'], dtype='<U69')"
      ]
     },
     "execution_count": 35,
     "metadata": {},
     "output_type": "execute_result"
    }
   ],
   "source": [
    "np.unique(loan_data_strings[:,1])"
   ]
  },
  {
   "cell_type": "code",
   "execution_count": 36,
   "id": "cafaeefd-7f38-40d7-a192-791b7dcd6516",
   "metadata": {},
   "outputs": [
    {
     "data": {
      "text/plain": [
       "9"
      ]
     },
     "execution_count": 36,
     "metadata": {},
     "output_type": "execute_result"
    }
   ],
   "source": [
    "np.unique(loan_data_strings[:,1]).size"
   ]
  },
  {
   "cell_type": "code",
   "execution_count": 37,
   "id": "c8e65996-264c-47f7-8389-c54007774fdd",
   "metadata": {},
   "outputs": [
    {
     "data": {
      "text/plain": [
       "array(['', 'Charged Off', 'Default', 'Late (31-120 days)'], dtype='<U18')"
      ]
     },
     "execution_count": 37,
     "metadata": {},
     "output_type": "execute_result"
    }
   ],
   "source": [
    "status_bad= np.array(['', 'Charged Off', 'Default',  'Late (31-120 days)'])\n",
    "status_bad"
   ]
  },
  {
   "cell_type": "code",
   "execution_count": 38,
   "id": "0b101800-c28c-4a7d-9661-1e6a8c5c2527",
   "metadata": {},
   "outputs": [
    {
     "data": {
      "text/plain": [
       "array(['1', '1', '1', ..., '1', '1', '1'], dtype='<U69')"
      ]
     },
     "execution_count": 38,
     "metadata": {},
     "output_type": "execute_result"
    }
   ],
   "source": [
    "loan_data_strings[:,1] = np.where(np.isin(loan_data_strings[:,1], status_bad), 0, 1)\n",
    "loan_data_strings[:,1]"
   ]
  },
  {
   "cell_type": "code",
   "execution_count": 39,
   "id": "60f7ede0-9851-4f07-afe1-79f737f91e99",
   "metadata": {},
   "outputs": [
    {
     "data": {
      "text/plain": [
       "array(['0', '1'], dtype='<U69')"
      ]
     },
     "execution_count": 39,
     "metadata": {},
     "output_type": "execute_result"
    }
   ],
   "source": [
    "np.unique(loan_data_strings[:,1])"
   ]
  },
  {
   "cell_type": "markdown",
   "id": "8a07213c-e99a-4b28-bfaa-24320dc13bdb",
   "metadata": {},
   "source": [
    "##### Term"
   ]
  },
  {
   "cell_type": "code",
   "execution_count": 40,
   "id": "db416f34-9c4d-40b3-8a89-41a52c69bdb5",
   "metadata": {},
   "outputs": [
    {
     "data": {
      "text/plain": [
       "'term'"
      ]
     },
     "execution_count": 40,
     "metadata": {},
     "output_type": "execute_result"
    }
   ],
   "source": [
    "header_strings[2]"
   ]
  },
  {
   "cell_type": "code",
   "execution_count": 41,
   "id": "da9ed8ab-f064-4722-b46f-ff7edb1bd4e1",
   "metadata": {},
   "outputs": [
    {
     "data": {
      "text/plain": [
       "array(['36 months', '36 months', '36 months', ..., '36 months', '36 months', '36 months'],\n",
       "      dtype='<U69')"
      ]
     },
     "execution_count": 41,
     "metadata": {},
     "output_type": "execute_result"
    }
   ],
   "source": [
    "loan_data_strings[:,2]"
   ]
  },
  {
   "cell_type": "code",
   "execution_count": 42,
   "id": "ba908444-6941-4c2c-9503-a0438a7d3e13",
   "metadata": {},
   "outputs": [
    {
     "data": {
      "text/plain": [
       "array(['', '36 months', '60 months'], dtype='<U69')"
      ]
     },
     "execution_count": 42,
     "metadata": {},
     "output_type": "execute_result"
    }
   ],
   "source": [
    "np.unique(loan_data_strings[:,2])"
   ]
  },
  {
   "cell_type": "code",
   "execution_count": 43,
   "id": "593e3751-00ce-45d7-972d-ff428cffe177",
   "metadata": {},
   "outputs": [
    {
     "data": {
      "text/plain": [
       "array(['36', '36', '36', ..., '36', '36', '36'], dtype='<U69')"
      ]
     },
     "execution_count": 43,
     "metadata": {},
     "output_type": "execute_result"
    }
   ],
   "source": [
    "loan_data_strings[:,2]= np.chararray.strip(loan_data_strings[:,2], ' months')\n",
    "loan_data_strings[:,2]"
   ]
  },
  {
   "cell_type": "code",
   "execution_count": 44,
   "id": "67159fc7-ca26-42de-b8a6-e0b6597fb928",
   "metadata": {},
   "outputs": [
    {
     "data": {
      "text/plain": [
       "array(['', '36', '60'], dtype='<U69')"
      ]
     },
     "execution_count": 44,
     "metadata": {},
     "output_type": "execute_result"
    }
   ],
   "source": [
    "np.unique(loan_data_strings[:,2])"
   ]
  },
  {
   "cell_type": "code",
   "execution_count": 45,
   "id": "9dbde390-3aa6-4752-b26d-1bb880ae9878",
   "metadata": {},
   "outputs": [
    {
     "data": {
      "text/plain": [
       "array(['issue_date', 'loan_status', 'term_months', 'grade', 'sub_grade', 'verification_status',\n",
       "       'url', 'addr_state'], dtype='<U19')"
      ]
     },
     "execution_count": 45,
     "metadata": {},
     "output_type": "execute_result"
    }
   ],
   "source": [
    "header_strings[2]= 'term_months'\n",
    "header_strings"
   ]
  },
  {
   "cell_type": "code",
   "execution_count": 46,
   "id": "f3767042-dff5-4292-9dfe-c553a93870f7",
   "metadata": {},
   "outputs": [
    {
     "data": {
      "text/plain": [
       "array(['36', '60'], dtype='<U69')"
      ]
     },
     "execution_count": 46,
     "metadata": {},
     "output_type": "execute_result"
    }
   ],
   "source": [
    "loan_data_strings[:,2]= np.where(loan_data_strings[:,2] == '', \n",
    "                                 '60', \n",
    "                                 loan_data_strings[:,2])\n",
    "np.unique(loan_data_strings[:,2])"
   ]
  },
  {
   "cell_type": "markdown",
   "id": "be45d6ed-81e6-47d3-9790-5e58e0394d28",
   "metadata": {},
   "source": [
    "##### Grade & Subgrade "
   ]
  },
  {
   "cell_type": "code",
   "execution_count": 47,
   "id": "b5de34be-f24b-4262-82c4-8b9a03a5ded9",
   "metadata": {},
   "outputs": [
    {
     "data": {
      "text/plain": [
       "array(['issue_date', 'loan_status', 'term_months', 'grade', 'sub_grade', 'verification_status',\n",
       "       'url', 'addr_state'], dtype='<U19')"
      ]
     },
     "execution_count": 47,
     "metadata": {},
     "output_type": "execute_result"
    }
   ],
   "source": [
    "header_strings"
   ]
  },
  {
   "cell_type": "code",
   "execution_count": 48,
   "id": "c254505b-30e9-4dd1-b55d-bcdb2528059e",
   "metadata": {},
   "outputs": [
    {
     "data": {
      "text/plain": [
       "array(['C', 'A', 'B', ..., 'A', 'D', 'A'], dtype='<U69')"
      ]
     },
     "execution_count": 48,
     "metadata": {},
     "output_type": "execute_result"
    }
   ],
   "source": [
    "loan_data_strings[:,3]"
   ]
  },
  {
   "cell_type": "code",
   "execution_count": 49,
   "id": "5d88dc8b-1d32-4f13-afb5-e73b0a279ad8",
   "metadata": {},
   "outputs": [
    {
     "data": {
      "text/plain": [
       "array(['', 'A', 'B', 'C', 'D', 'E', 'F', 'G'], dtype='<U69')"
      ]
     },
     "execution_count": 49,
     "metadata": {},
     "output_type": "execute_result"
    }
   ],
   "source": [
    "np.unique(loan_data_strings[:,3])"
   ]
  },
  {
   "cell_type": "code",
   "execution_count": 50,
   "id": "5b0e3792-9468-4b49-b6d2-dd12e1e3aca6",
   "metadata": {},
   "outputs": [
    {
     "data": {
      "text/plain": [
       "array(['C3', 'A5', 'B5', ..., 'A5', 'D2', 'A4'], dtype='<U69')"
      ]
     },
     "execution_count": 50,
     "metadata": {},
     "output_type": "execute_result"
    }
   ],
   "source": [
    "loan_data_strings[:,4]"
   ]
  },
  {
   "cell_type": "code",
   "execution_count": 51,
   "id": "9009d31a-5875-4de7-85b4-7b6d1eff13b5",
   "metadata": {},
   "outputs": [
    {
     "data": {
      "text/plain": [
       "array(['', 'A1', 'A2', 'A3', 'A4', 'A5', 'B1', 'B2', 'B3', 'B4', 'B5', 'C1', 'C2', 'C3', 'C4',\n",
       "       'C5', 'D1', 'D2', 'D3', 'D4', 'D5', 'E1', 'E2', 'E3', 'E4', 'E5', 'F1', 'F2', 'F3', 'F4',\n",
       "       'F5', 'G1', 'G2', 'G3', 'G4', 'G5'], dtype='<U69')"
      ]
     },
     "execution_count": 51,
     "metadata": {},
     "output_type": "execute_result"
    }
   ],
   "source": [
    "np.unique(loan_data_strings[:,4])"
   ]
  },
  {
   "cell_type": "code",
   "execution_count": 52,
   "id": "f51f8d5e-777b-46c6-9307-824cc213d035",
   "metadata": {},
   "outputs": [],
   "source": [
    "for i in np.unique(loan_data_strings[:,3])[1:]:\n",
    "    loan_data_strings[:,4]= np.where((loan_data_strings[:,4] == '') & (loan_data_strings[:,3] == i), \n",
    "                                     i + '5', \n",
    "                                     loan_data_strings[:,4])"
   ]
  },
  {
   "cell_type": "code",
   "execution_count": 53,
   "id": "3a9aaf50-1140-4efd-a801-dfad8fc748ad",
   "metadata": {},
   "outputs": [
    {
     "data": {
      "text/plain": [
       "(array(['', 'A1', 'A2', 'A3', 'A4', 'A5', 'B1', 'B2', 'B3', 'B4', 'B5', 'C1', 'C2', 'C3', 'C4',\n",
       "        'C5', 'D1', 'D2', 'D3', 'D4', 'D5', 'E1', 'E2', 'E3', 'E4', 'E5', 'F1', 'F2', 'F3', 'F4',\n",
       "        'F5', 'G1', 'G2', 'G3', 'G4', 'G5'], dtype='<U69'),\n",
       " array([  9, 285, 278, 239, 323, 592, 509, 517, 530, 553, 633, 629, 567, 586, 564, 577, 391, 267,\n",
       "        250, 255, 288, 235, 162, 171, 139, 160,  94,  52,  34,  43,  24,  19,  10,   3,   7,   5],\n",
       "       dtype=int64))"
      ]
     },
     "execution_count": 53,
     "metadata": {},
     "output_type": "execute_result"
    }
   ],
   "source": [
    "np.unique(loan_data_strings[:,4], return_counts= True)"
   ]
  },
  {
   "cell_type": "code",
   "execution_count": 54,
   "id": "7a4bfa78-945a-48f7-820b-742eff0dfdfc",
   "metadata": {},
   "outputs": [
    {
     "data": {
      "text/plain": [
       "array(['A1', 'A2', 'A3', 'A4', 'A5', 'B1', 'B2', 'B3', 'B4', 'B5', 'C1', 'C2', 'C3', 'C4', 'C5',\n",
       "       'D1', 'D2', 'D3', 'D4', 'D5', 'E1', 'E2', 'E3', 'E4', 'E5', 'F1', 'F2', 'F3', 'F4', 'F5',\n",
       "       'G1', 'G2', 'G3', 'G4', 'G5', 'H1'], dtype='<U69')"
      ]
     },
     "execution_count": 54,
     "metadata": {},
     "output_type": "execute_result"
    }
   ],
   "source": [
    "loan_data_strings[:,4] = np.where(loan_data_strings[:,4] == '',\n",
    "                                  'H1', \n",
    "                                  loan_data_strings[:,4])\n",
    "np.unique(loan_data_strings[:,4])"
   ]
  },
  {
   "cell_type": "markdown",
   "id": "88bba7b8-3eca-4c54-8650-417ad7d892e9",
   "metadata": {},
   "source": [
    "##### Removing Grade"
   ]
  },
  {
   "cell_type": "code",
   "execution_count": 55,
   "id": "dff05345-e0c1-4383-bb21-8241678ea184",
   "metadata": {},
   "outputs": [
    {
     "data": {
      "text/plain": [
       "array(['C3', 'A5', 'B5', ..., 'A5', 'D2', 'A4'], dtype='<U69')"
      ]
     },
     "execution_count": 55,
     "metadata": {},
     "output_type": "execute_result"
    }
   ],
   "source": [
    "loan_data_strings = np.delete(loan_data_strings, 3, axis= 1)\n",
    "loan_data_strings[:,3]"
   ]
  },
  {
   "cell_type": "code",
   "execution_count": 56,
   "id": "a2f0614a-da14-4631-b2bc-3a2b40cbfbdd",
   "metadata": {},
   "outputs": [
    {
     "data": {
      "text/plain": [
       "array(['issue_date', 'loan_status', 'term_months', 'sub_grade', 'verification_status', 'url',\n",
       "       'addr_state'], dtype='<U19')"
      ]
     },
     "execution_count": 56,
     "metadata": {},
     "output_type": "execute_result"
    }
   ],
   "source": [
    "header_strings= np.delete(header_strings, 3)\n",
    "header_strings"
   ]
  },
  {
   "cell_type": "code",
   "execution_count": 57,
   "id": "0932eec6-92f3-4bcc-9da8-805b86e08617",
   "metadata": {},
   "outputs": [
    {
     "data": {
      "text/plain": [
       "'sub_grade'"
      ]
     },
     "execution_count": 57,
     "metadata": {},
     "output_type": "execute_result"
    }
   ],
   "source": [
    "header_strings[3]"
   ]
  },
  {
   "cell_type": "code",
   "execution_count": 58,
   "id": "21e79c1c-a3ee-4a32-892a-7729261cca12",
   "metadata": {},
   "outputs": [
    {
     "data": {
      "text/plain": [
       "array(['C3', 'A5', 'B5', ..., 'A5', 'D2', 'A4'], dtype='<U69')"
      ]
     },
     "execution_count": 58,
     "metadata": {},
     "output_type": "execute_result"
    }
   ],
   "source": [
    "loan_data_strings[:,3]"
   ]
  },
  {
   "cell_type": "markdown",
   "id": "49c2ed28-76bb-4021-83d0-380b658f958f",
   "metadata": {},
   "source": [
    "##### Converting Subgrade"
   ]
  },
  {
   "cell_type": "code",
   "execution_count": 59,
   "id": "1cad8435-327d-43f5-b7cd-3a038da6cb08",
   "metadata": {},
   "outputs": [],
   "source": [
    "keys= list(np.unique(loan_data_strings[:,3]))\n",
    "values= list(range(1, np.unique(loan_data_strings[:,3]).shape[0] + 1))\n",
    "dict_sub_grade= dict(zip(keys, values))"
   ]
  },
  {
   "cell_type": "code",
   "execution_count": 60,
   "id": "17c74ed1-56df-4d66-bd4e-61ad28179b52",
   "metadata": {},
   "outputs": [
    {
     "data": {
      "text/plain": [
       "{'A1': 1,\n",
       " 'A2': 2,\n",
       " 'A3': 3,\n",
       " 'A4': 4,\n",
       " 'A5': 5,\n",
       " 'B1': 6,\n",
       " 'B2': 7,\n",
       " 'B3': 8,\n",
       " 'B4': 9,\n",
       " 'B5': 10,\n",
       " 'C1': 11,\n",
       " 'C2': 12,\n",
       " 'C3': 13,\n",
       " 'C4': 14,\n",
       " 'C5': 15,\n",
       " 'D1': 16,\n",
       " 'D2': 17,\n",
       " 'D3': 18,\n",
       " 'D4': 19,\n",
       " 'D5': 20,\n",
       " 'E1': 21,\n",
       " 'E2': 22,\n",
       " 'E3': 23,\n",
       " 'E4': 24,\n",
       " 'E5': 25,\n",
       " 'F1': 26,\n",
       " 'F2': 27,\n",
       " 'F3': 28,\n",
       " 'F4': 29,\n",
       " 'F5': 30,\n",
       " 'G1': 31,\n",
       " 'G2': 32,\n",
       " 'G3': 33,\n",
       " 'G4': 34,\n",
       " 'G5': 35,\n",
       " 'H1': 36}"
      ]
     },
     "execution_count": 60,
     "metadata": {},
     "output_type": "execute_result"
    }
   ],
   "source": [
    "dict_sub_grade"
   ]
  },
  {
   "cell_type": "code",
   "execution_count": 61,
   "id": "47d1cddb-45b9-4289-824a-ccc5ce789f49",
   "metadata": {},
   "outputs": [],
   "source": [
    "for i in np.unique(loan_data_strings[:,3]):\n",
    "    loan_data_strings[:,3] = np.where(loan_data_strings[:,3] == i, \n",
    "                                      dict_sub_grade[i], \n",
    "                                      loan_data_strings[:,3])"
   ]
  },
  {
   "cell_type": "code",
   "execution_count": 62,
   "id": "0138ea74-4bee-49e5-9f9f-24f8755663aa",
   "metadata": {},
   "outputs": [
    {
     "data": {
      "text/plain": [
       "array(['13', '5', '10', ..., '5', '17', '4'], dtype='<U69')"
      ]
     },
     "execution_count": 62,
     "metadata": {},
     "output_type": "execute_result"
    }
   ],
   "source": [
    "loan_data_strings[:,3]"
   ]
  },
  {
   "cell_type": "code",
   "execution_count": 63,
   "id": "996b43d1-3c7f-430c-968c-f36a1c6bc6e0",
   "metadata": {},
   "outputs": [
    {
     "data": {
      "text/plain": [
       "array(['1', '10', '11', '12', '13', '14', '15', '16', '17', '18', '19', '2', '20', '21', '22',\n",
       "       '23', '24', '25', '26', '27', '28', '29', '3', '30', '31', '32', '33', '34', '35', '36',\n",
       "       '4', '5', '6', '7', '8', '9'], dtype='<U69')"
      ]
     },
     "execution_count": 63,
     "metadata": {},
     "output_type": "execute_result"
    }
   ],
   "source": [
    "np.unique(loan_data_strings[:,3])"
   ]
  },
  {
   "cell_type": "markdown",
   "id": "f83f78a2-8d14-4e52-983c-80302c23cd45",
   "metadata": {},
   "source": [
    "##### Verification Status"
   ]
  },
  {
   "cell_type": "code",
   "execution_count": 64,
   "id": "f2738f59-5d98-406a-9c3a-5b4f9ac65c2d",
   "metadata": {},
   "outputs": [
    {
     "data": {
      "text/plain": [
       "array(['issue_date', 'loan_status', 'term_months', 'sub_grade', 'verification_status', 'url',\n",
       "       'addr_state'], dtype='<U19')"
      ]
     },
     "execution_count": 64,
     "metadata": {},
     "output_type": "execute_result"
    }
   ],
   "source": [
    "header_strings"
   ]
  },
  {
   "cell_type": "code",
   "execution_count": 65,
   "id": "638f383f-967b-4f26-8110-6fd851a815b9",
   "metadata": {},
   "outputs": [
    {
     "data": {
      "text/plain": [
       "array(['Verified', 'Source Verified', 'Verified', ..., 'Source Verified', 'Source Verified', ''],\n",
       "      dtype='<U69')"
      ]
     },
     "execution_count": 65,
     "metadata": {},
     "output_type": "execute_result"
    }
   ],
   "source": [
    "loan_data_strings[:,4]"
   ]
  },
  {
   "cell_type": "code",
   "execution_count": 66,
   "id": "45b22f34-ee3f-41be-8943-a11f156f5276",
   "metadata": {},
   "outputs": [
    {
     "data": {
      "text/plain": [
       "array(['', 'Not Verified', 'Source Verified', 'Verified'], dtype='<U69')"
      ]
     },
     "execution_count": 66,
     "metadata": {},
     "output_type": "execute_result"
    }
   ],
   "source": [
    "np.unique(loan_data_strings[:,4])"
   ]
  },
  {
   "cell_type": "code",
   "execution_count": 67,
   "id": "7025ebd8-7a24-494d-a85e-9c2440f67825",
   "metadata": {},
   "outputs": [
    {
     "data": {
      "text/plain": [
       "array(['0', '1'], dtype='<U69')"
      ]
     },
     "execution_count": 67,
     "metadata": {},
     "output_type": "execute_result"
    }
   ],
   "source": [
    "loan_data_strings[:,4] = np.where((loan_data_strings[:,4] == '') | (loan_data_strings[:,4] == 'Not Verified'), 0, 1)\n",
    "np.unique(loan_data_strings[:,4])"
   ]
  },
  {
   "cell_type": "markdown",
   "id": "fd5a7f45-230c-4c78-9c22-beee3b8c7973",
   "metadata": {},
   "source": [
    "##### URL"
   ]
  },
  {
   "cell_type": "code",
   "execution_count": 68,
   "id": "695f3523-084b-4cd0-be5c-ca84378c5a11",
   "metadata": {},
   "outputs": [
    {
     "data": {
      "text/plain": [
       "array(['https://www.lendingclub.com/browse/loanDetail.action?loan_id=48010226',\n",
       "       'https://www.lendingclub.com/browse/loanDetail.action?loan_id=57693261',\n",
       "       'https://www.lendingclub.com/browse/loanDetail.action?loan_id=59432726', ...,\n",
       "       'https://www.lendingclub.com/browse/loanDetail.action?loan_id=50415990',\n",
       "       'https://www.lendingclub.com/browse/loanDetail.action?loan_id=46154151',\n",
       "       'https://www.lendingclub.com/browse/loanDetail.action?loan_id=66055249'], dtype='<U69')"
      ]
     },
     "execution_count": 68,
     "metadata": {},
     "output_type": "execute_result"
    }
   ],
   "source": [
    "loan_data_strings[:,5]"
   ]
  },
  {
   "cell_type": "code",
   "execution_count": 69,
   "id": "eb102a5b-52a8-4293-9af9-7c705b58700b",
   "metadata": {},
   "outputs": [
    {
     "data": {
      "text/plain": [
       "array(['48010226', '57693261', '59432726', ..., '50415990', '46154151', '66055249'], dtype='<U69')"
      ]
     },
     "execution_count": 69,
     "metadata": {},
     "output_type": "execute_result"
    }
   ],
   "source": [
    "loan_data_strings[:,5]= np.chararray.strip(loan_data_strings[:,5], 'https://www.lendingclub.com/browse/loanDetail.action?loan_id=')\n",
    "loan_data_strings[:,5]"
   ]
  },
  {
   "cell_type": "code",
   "execution_count": 70,
   "id": "dd300577-67b1-4bc4-9a19-8657214ee7fc",
   "metadata": {},
   "outputs": [
    {
     "data": {
      "text/plain": [
       "array(['id', 'issue_d', 'loan_amnt', 'loan_status', 'funded_amnt', 'term', 'int_rate',\n",
       "       'installment', 'grade', 'sub_grade', 'verification_status', 'url', 'addr_state',\n",
       "       'total_pymnt'], dtype='<U19')"
      ]
     },
     "execution_count": 70,
     "metadata": {},
     "output_type": "execute_result"
    }
   ],
   "source": [
    "header_full"
   ]
  },
  {
   "cell_type": "code",
   "execution_count": 71,
   "id": "f72ae32b-763c-46ad-aa2b-b1030ed0ad5b",
   "metadata": {},
   "outputs": [
    {
     "data": {
      "text/plain": [
       "array([ 0,  2,  4,  6,  7, 13], dtype=int64)"
      ]
     },
     "execution_count": 71,
     "metadata": {},
     "output_type": "execute_result"
    }
   ],
   "source": [
    "column_numeric"
   ]
  },
  {
   "cell_type": "code",
   "execution_count": 72,
   "id": "966ec77e-18e7-4506-a276-6af4305172a5",
   "metadata": {},
   "outputs": [
    {
     "data": {
      "text/plain": [
       "array([48010226., 57693261., 59432726., ..., 50415990., 46154151., 66055249.])"
      ]
     },
     "execution_count": 72,
     "metadata": {},
     "output_type": "execute_result"
    }
   ],
   "source": [
    "loan_data_numeric[:,0]"
   ]
  },
  {
   "cell_type": "code",
   "execution_count": 73,
   "id": "5a433062-de57-4f01-9d7c-4732082fac73",
   "metadata": {},
   "outputs": [
    {
     "data": {
      "text/plain": [
       "True"
      ]
     },
     "execution_count": 73,
     "metadata": {},
     "output_type": "execute_result"
    }
   ],
   "source": [
    "np.array_equal(loan_data_strings[:,5].astype(np.int32), loan_data_numeric[:,0].astype(np.int32))"
   ]
  },
  {
   "cell_type": "code",
   "execution_count": 74,
   "id": "210200d9-a122-40f1-8ca8-10cc586d7e27",
   "metadata": {},
   "outputs": [],
   "source": [
    "loan_data_strings = np.delete(loan_data_strings, 5, axis= 1)\n",
    "header_strings= np.delete(header_strings, 5)"
   ]
  },
  {
   "cell_type": "code",
   "execution_count": 75,
   "id": "ae4b1bfa-87a5-4152-b697-2e2042176a99",
   "metadata": {},
   "outputs": [
    {
     "data": {
      "text/plain": [
       "array(['issue_date', 'loan_status', 'term_months', 'sub_grade', 'verification_status',\n",
       "       'addr_state'], dtype='<U19')"
      ]
     },
     "execution_count": 75,
     "metadata": {},
     "output_type": "execute_result"
    }
   ],
   "source": [
    "header_strings"
   ]
  },
  {
   "cell_type": "code",
   "execution_count": 76,
   "id": "812963d1-5986-42ef-b885-61944a875b86",
   "metadata": {},
   "outputs": [
    {
     "data": {
      "text/plain": [
       "array(['CA', 'NY', 'PA', ..., 'CA', 'OH', 'IL'], dtype='<U69')"
      ]
     },
     "execution_count": 76,
     "metadata": {},
     "output_type": "execute_result"
    }
   ],
   "source": [
    "loan_data_strings[:,5]"
   ]
  },
  {
   "cell_type": "code",
   "execution_count": 77,
   "id": "884aa4c2-62f5-47ec-8e70-cfca10d28dc1",
   "metadata": {},
   "outputs": [
    {
     "data": {
      "text/plain": [
       "'addr_state'"
      ]
     },
     "execution_count": 77,
     "metadata": {},
     "output_type": "execute_result"
    }
   ],
   "source": [
    "header_strings[5]"
   ]
  },
  {
   "cell_type": "code",
   "execution_count": 78,
   "id": "17327b7d-c891-457b-9620-4fadaba297ee",
   "metadata": {},
   "outputs": [
    {
     "data": {
      "text/plain": [
       "array([48010226., 57693261., 59432726., ..., 50415990., 46154151., 66055249.])"
      ]
     },
     "execution_count": 78,
     "metadata": {},
     "output_type": "execute_result"
    }
   ],
   "source": [
    "loan_data_numeric[:,0]"
   ]
  },
  {
   "cell_type": "code",
   "execution_count": 79,
   "id": "ea24336d-a72c-44a8-b35a-608e91567939",
   "metadata": {},
   "outputs": [
    {
     "data": {
      "text/plain": [
       "'id'"
      ]
     },
     "execution_count": 79,
     "metadata": {},
     "output_type": "execute_result"
    }
   ],
   "source": [
    "header_numeric[0]"
   ]
  },
  {
   "cell_type": "markdown",
   "id": "bb623d2c-ed64-4647-a249-32e9af9f1291",
   "metadata": {},
   "source": [
    "##### State Address"
   ]
  },
  {
   "cell_type": "code",
   "execution_count": 80,
   "id": "436b539f-5ff2-4128-a46b-e8577fc9e216",
   "metadata": {},
   "outputs": [
    {
     "data": {
      "text/plain": [
       "array(['issue_date', 'loan_status', 'term_months', 'sub_grade', 'verification_status',\n",
       "       'state_address'], dtype='<U19')"
      ]
     },
     "execution_count": 80,
     "metadata": {},
     "output_type": "execute_result"
    }
   ],
   "source": [
    "header_strings[5] = 'state_address'\n",
    "header_strings"
   ]
  },
  {
   "cell_type": "code",
   "execution_count": 81,
   "id": "5e42bb86-20ed-4d92-9d4d-f880c77c5d9e",
   "metadata": {},
   "outputs": [
    {
     "data": {
      "text/plain": [
       "array(['CA', 'NY', 'PA', ..., 'CA', 'OH', 'IL'], dtype='<U69')"
      ]
     },
     "execution_count": 81,
     "metadata": {},
     "output_type": "execute_result"
    }
   ],
   "source": [
    "loan_data_strings[:,5]"
   ]
  },
  {
   "cell_type": "code",
   "execution_count": 82,
   "id": "71aaaf5e-c2f7-4df0-99d9-503bb39b8cd2",
   "metadata": {},
   "outputs": [
    {
     "data": {
      "text/plain": [
       "50"
      ]
     },
     "execution_count": 82,
     "metadata": {},
     "output_type": "execute_result"
    }
   ],
   "source": [
    "np.unique(loan_data_strings[:,5]).size"
   ]
  },
  {
   "cell_type": "code",
   "execution_count": 83,
   "id": "4b6aa321-3167-4a7d-9583-b522e00f5124",
   "metadata": {},
   "outputs": [
    {
     "data": {
      "text/plain": [
       "(array(['CA', 'NY', 'TX', 'FL', '', 'IL', 'NJ', 'GA', 'PA', 'OH', 'MI', 'NC', 'VA', 'MD', 'AZ',\n",
       "        'WA', 'MA', 'CO', 'MO', 'MN', 'IN', 'WI', 'CT', 'TN', 'NV', 'AL', 'LA', 'OR', 'SC', 'KY',\n",
       "        'KS', 'OK', 'UT', 'AR', 'MS', 'NH', 'NM', 'WV', 'HI', 'RI', 'MT', 'DE', 'DC', 'WY', 'AK',\n",
       "        'NE', 'SD', 'VT', 'ND', 'ME'], dtype='<U69'),\n",
       " array([1336,  777,  758,  690,  500,  389,  341,  321,  320,  312,  267,  261,  242,  222,  220,\n",
       "         216,  210,  201,  160,  156,  152,  148,  143,  143,  130,  119,  116,  108,  107,   84,\n",
       "          84,   83,   74,   74,   61,   58,   57,   49,   44,   40,   28,   27,   27,   27,   26,\n",
       "          25,   24,   17,   16,   10], dtype=int64))"
      ]
     },
     "execution_count": 83,
     "metadata": {},
     "output_type": "execute_result"
    }
   ],
   "source": [
    "states_names, states_count= np.unique(loan_data_strings[:,5], return_counts= True)\n",
    "states_count_sorted= np.argsort(-states_count)\n",
    "states_names[states_count_sorted], states_count[states_count_sorted]"
   ]
  },
  {
   "cell_type": "code",
   "execution_count": 84,
   "id": "73e8d1b6-41b7-4b7d-a9fd-c50d1ac0a45e",
   "metadata": {},
   "outputs": [
    {
     "data": {
      "text/plain": [
       "(array(['0', 'AK', 'AL', 'AR', 'AZ', 'CA', 'CO', 'CT', 'DC', 'DE', 'FL', 'GA', 'HI', 'IL', 'IN',\n",
       "        'KS', 'KY', 'LA', 'MA', 'MD', 'ME', 'MI', 'MN', 'MO', 'MS', 'MT', 'NC', 'ND', 'NE', 'NH',\n",
       "        'NJ', 'NM', 'NV', 'NY', 'OH', 'OK', 'OR', 'PA', 'RI', 'SC', 'SD', 'TN', 'TX', 'UT', 'VA',\n",
       "        'VT', 'WA', 'WI', 'WV', 'WY'], dtype='<U69'),\n",
       " array([ 500,   26,  119,   74,  220, 1336,  201,  143,   27,   27,  690,  321,   44,  389,  152,\n",
       "          84,   84,  116,  210,  222,   10,  267,  156,  160,   61,   28,  261,   16,   25,   58,\n",
       "         341,   57,  130,  777,  312,   83,  108,  320,   40,  107,   24,  143,  758,   74,  242,\n",
       "          17,  216,  148,   49,   27], dtype=int64))"
      ]
     },
     "execution_count": 84,
     "metadata": {},
     "output_type": "execute_result"
    }
   ],
   "source": [
    "loan_data_strings[:,5]= np.where(loan_data_strings[:,5] == '', \n",
    "                                 0, \n",
    "                                 loan_data_strings[:,5])\n",
    "np.unique(loan_data_strings[:,5], return_counts= True)"
   ]
  },
  {
   "cell_type": "code",
   "execution_count": 85,
   "id": "c16e1d1e-7c90-4c67-9caf-2052fdd2a8d0",
   "metadata": {},
   "outputs": [],
   "source": [
    "states_west= np.array(['WA','OR','CA','NV','ID','MT','WY','UT','CO','AZ','NM','HI','AK'])\n",
    "states_south= np.array(['TX','OK','AR','LA','MS','AL','TN','KY','FL','GA','SC','NC','VA','WV','MD','DE','DC'])\n",
    "states_midwest= np.array(['ND','SD','NE','KS','MN','IA','MO','WI','IL','IN','MI','OH'])\n",
    "states_east= np.array(['PA','NY','NJ','CT','MA','VT','NH','ME','RI'])"
   ]
  },
  {
   "cell_type": "code",
   "execution_count": 86,
   "id": "df9c2647-5a5f-45cf-a8f3-3b3765039e69",
   "metadata": {},
   "outputs": [],
   "source": [
    "loan_data_strings[:,5]= np.where(np.isin(loan_data_strings[:,5], states_west), 1, loan_data_strings[:,5])\n",
    "loan_data_strings[:,5]= np.where(np.isin(loan_data_strings[:,5], states_south), 2, loan_data_strings[:,5])\n",
    "loan_data_strings[:,5]= np.where(np.isin(loan_data_strings[:,5], states_midwest), 3, loan_data_strings[:,5])\n",
    "loan_data_strings[:,5]= np.where(np.isin(loan_data_strings[:,5], states_east), 4, loan_data_strings[:,5])"
   ]
  },
  {
   "cell_type": "code",
   "execution_count": 87,
   "id": "3ca1bda9-27ba-4402-b846-c29bb7a6f59f",
   "metadata": {},
   "outputs": [
    {
     "data": {
      "text/plain": [
       "array(['1', '4', '4', ..., '1', '3', '3'], dtype='<U69')"
      ]
     },
     "execution_count": 87,
     "metadata": {},
     "output_type": "execute_result"
    }
   ],
   "source": [
    "loan_data_strings[:,5]"
   ]
  },
  {
   "cell_type": "code",
   "execution_count": 88,
   "id": "5dcc96fb-d428-4fa6-beee-453cc2676855",
   "metadata": {},
   "outputs": [
    {
     "data": {
      "text/plain": [
       "array(['0', '1', '2', '3', '4'], dtype='<U69')"
      ]
     },
     "execution_count": 88,
     "metadata": {},
     "output_type": "execute_result"
    }
   ],
   "source": [
    "np.unique(loan_data_strings[:,5])"
   ]
  },
  {
   "cell_type": "code",
   "execution_count": 89,
   "id": "c3b9fb64-0885-4e27-8d65-a6ed76b4cd63",
   "metadata": {},
   "outputs": [
    {
     "data": {
      "text/plain": [
       "array(['issue_date', 'loan_status', 'term_months', 'sub_grade', 'verification_status',\n",
       "       'state_address'], dtype='<U19')"
      ]
     },
     "execution_count": 89,
     "metadata": {},
     "output_type": "execute_result"
    }
   ],
   "source": [
    "header_strings"
   ]
  },
  {
   "cell_type": "code",
   "execution_count": 90,
   "id": "d37f2025-73b0-4033-a335-28b4a9a2dfdb",
   "metadata": {},
   "outputs": [
    {
     "data": {
      "text/plain": [
       "array([['5', '1', '36', '13', '1', '1'],\n",
       "       ['0', '1', '36', '5', '1', '4'],\n",
       "       ['9', '1', '36', '10', '1', '4'],\n",
       "       ...,\n",
       "       ['6', '1', '36', '5', '1', '1'],\n",
       "       ['4', '1', '36', '17', '1', '3'],\n",
       "       ['12', '1', '36', '4', '0', '3']], dtype='<U69')"
      ]
     },
     "execution_count": 90,
     "metadata": {},
     "output_type": "execute_result"
    }
   ],
   "source": [
    "loan_data_strings"
   ]
  },
  {
   "cell_type": "markdown",
   "id": "144fd04c-f66b-472e-a3d1-8462e4bd0096",
   "metadata": {},
   "source": [
    "##### Converting to Numbers"
   ]
  },
  {
   "cell_type": "code",
   "execution_count": 91,
   "id": "998fbad3-bf12-41c5-a59f-b92be491de66",
   "metadata": {},
   "outputs": [],
   "source": [
    "loan_data_strings= loan_data_strings.astype(np.int_)"
   ]
  },
  {
   "cell_type": "code",
   "execution_count": 92,
   "id": "047dd787-3163-4bf6-9ff8-ac0beecc0c79",
   "metadata": {},
   "outputs": [
    {
     "data": {
      "text/plain": [
       "array([[ 5,  1, 36, 13,  1,  1],\n",
       "       [ 0,  1, 36,  5,  1,  4],\n",
       "       [ 9,  1, 36, 10,  1,  4],\n",
       "       ...,\n",
       "       [ 6,  1, 36,  5,  1,  1],\n",
       "       [ 4,  1, 36, 17,  1,  3],\n",
       "       [12,  1, 36,  4,  0,  3]])"
      ]
     },
     "execution_count": 92,
     "metadata": {},
     "output_type": "execute_result"
    }
   ],
   "source": [
    "loan_data_strings"
   ]
  },
  {
   "cell_type": "code",
   "execution_count": 93,
   "id": "ce6f9074-3c63-418a-a271-013a55ea1f07",
   "metadata": {},
   "outputs": [],
   "source": [
    "loan_data_strings_prep= checkpoint('loan_data_strings_prep', header_strings, loan_data_strings)"
   ]
  },
  {
   "cell_type": "code",
   "execution_count": 94,
   "id": "a1d9f435-2369-46f8-99d5-248e435c5235",
   "metadata": {},
   "outputs": [
    {
     "data": {
      "text/plain": [
       "array(['issue_date', 'loan_status', 'term_months', 'sub_grade', 'verification_status',\n",
       "       'state_address'], dtype='<U19')"
      ]
     },
     "execution_count": 94,
     "metadata": {},
     "output_type": "execute_result"
    }
   ],
   "source": [
    "loan_data_strings_prep['header']"
   ]
  },
  {
   "cell_type": "code",
   "execution_count": 95,
   "id": "539d7988-f0b6-4253-beea-f18ea4e84989",
   "metadata": {},
   "outputs": [
    {
     "data": {
      "text/plain": [
       "array([[ 5,  1, 36, 13,  1,  1],\n",
       "       [ 0,  1, 36,  5,  1,  4],\n",
       "       [ 9,  1, 36, 10,  1,  4],\n",
       "       ...,\n",
       "       [ 6,  1, 36,  5,  1,  1],\n",
       "       [ 4,  1, 36, 17,  1,  3],\n",
       "       [12,  1, 36,  4,  0,  3]])"
      ]
     },
     "execution_count": 95,
     "metadata": {},
     "output_type": "execute_result"
    }
   ],
   "source": [
    "loan_data_strings_prep['data']"
   ]
  },
  {
   "cell_type": "code",
   "execution_count": 96,
   "id": "bac1c9b7-8683-451a-9023-6eceaf19ee0f",
   "metadata": {},
   "outputs": [
    {
     "data": {
      "text/plain": [
       "True"
      ]
     },
     "execution_count": 96,
     "metadata": {},
     "output_type": "execute_result"
    }
   ],
   "source": [
    "np.array_equal(loan_data_strings_prep['data'], loan_data_strings)"
   ]
  },
  {
   "cell_type": "markdown",
   "id": "f8a4b5c1-88da-483c-89a1-a1f892d146ef",
   "metadata": {},
   "source": [
    "##### Manupulating Numerical Columns"
   ]
  },
  {
   "cell_type": "code",
   "execution_count": 97,
   "id": "29325919-69ff-4118-8847-74a24dc511d1",
   "metadata": {},
   "outputs": [
    {
     "data": {
      "text/plain": [
       "array([[48010226.  ,    35000.  ,    35000.  ,       13.33,     1184.86,     9452.96],\n",
       "       [57693261.  ,    30000.  ,    30000.  , 68616520.  ,      938.57,     4679.7 ],\n",
       "       [59432726.  ,    15000.  ,    15000.  , 68616520.  ,      494.86,     1969.83],\n",
       "       ...,\n",
       "       [50415990.  ,    10000.  ,    10000.  , 68616520.  , 68616520.  ,     2185.64],\n",
       "       [46154151.  , 68616520.  ,    10000.  ,       16.55,      354.3 ,     3199.4 ],\n",
       "       [66055249.  ,    10000.  ,    10000.  , 68616520.  ,      309.97,      301.9 ]])"
      ]
     },
     "execution_count": 97,
     "metadata": {},
     "output_type": "execute_result"
    }
   ],
   "source": [
    "loan_data_numeric"
   ]
  },
  {
   "cell_type": "code",
   "execution_count": 98,
   "id": "9df2d76a-193a-4787-86aa-dd82eee55ed3",
   "metadata": {},
   "outputs": [
    {
     "data": {
      "text/plain": [
       "0"
      ]
     },
     "execution_count": 98,
     "metadata": {},
     "output_type": "execute_result"
    }
   ],
   "source": [
    "np.isnan(loan_data_numeric).sum()"
   ]
  },
  {
   "cell_type": "code",
   "execution_count": 99,
   "id": "90128403-f8e7-4adf-a23c-9dcf334fd35e",
   "metadata": {},
   "outputs": [
    {
     "data": {
      "text/plain": [
       "68616520.0"
      ]
     },
     "execution_count": 99,
     "metadata": {},
     "output_type": "execute_result"
    }
   ],
   "source": [
    "temporary_fill"
   ]
  },
  {
   "cell_type": "code",
   "execution_count": 100,
   "id": "9fa793af-700f-498f-bf54-8e17e1e388bd",
   "metadata": {},
   "outputs": [
    {
     "data": {
      "text/plain": [
       "0"
      ]
     },
     "execution_count": 100,
     "metadata": {},
     "output_type": "execute_result"
    }
   ],
   "source": [
    "np.isin(loan_data_numeric[:,0], temporary_fill).sum()"
   ]
  },
  {
   "cell_type": "code",
   "execution_count": 101,
   "id": "23d8a85f-fc60-4786-bef1-9f6de35e4c5e",
   "metadata": {},
   "outputs": [],
   "source": [
    "id_numbers, id_counts= np.unique(loan_data_numeric[:,0], return_counts= True)"
   ]
  },
  {
   "cell_type": "code",
   "execution_count": 102,
   "id": "bb582312-8302-4985-8ae7-74ad3a064b10",
   "metadata": {},
   "outputs": [
    {
     "data": {
      "text/plain": [
       "10000"
      ]
     },
     "execution_count": 102,
     "metadata": {},
     "output_type": "execute_result"
    }
   ],
   "source": [
    "id_counts.sum()"
   ]
  },
  {
   "cell_type": "code",
   "execution_count": 103,
   "id": "82b45563-feb2-4ce8-9ecb-8f7056773fcd",
   "metadata": {},
   "outputs": [
    {
     "data": {
      "text/plain": [
       "10000"
      ]
     },
     "execution_count": 103,
     "metadata": {},
     "output_type": "execute_result"
    }
   ],
   "source": [
    "loan_data_numeric[:,0].shape[0]"
   ]
  },
  {
   "cell_type": "code",
   "execution_count": 104,
   "id": "4a2ca7b1-9cb1-480f-a854-ce9910590a07",
   "metadata": {},
   "outputs": [
    {
     "data": {
      "text/plain": [
       "True"
      ]
     },
     "execution_count": 104,
     "metadata": {},
     "output_type": "execute_result"
    }
   ],
   "source": [
    "np.array_equal(id_counts.sum(), loan_data_numeric[:,0].shape[0])"
   ]
  },
  {
   "cell_type": "code",
   "execution_count": 105,
   "id": "482b8db3-b412-41ba-a448-e5c5d8d7f70c",
   "metadata": {},
   "outputs": [
    {
     "data": {
      "text/plain": [
       "array(['id', 'loan_amnt', 'funded_amnt', 'int_rate', 'installment', 'total_pymnt'], dtype='<U19')"
      ]
     },
     "execution_count": 105,
     "metadata": {},
     "output_type": "execute_result"
    }
   ],
   "source": [
    "header_numeric"
   ]
  },
  {
   "cell_type": "code",
   "execution_count": 106,
   "id": "26976332-1725-4637-81f6-af234c9b87bf",
   "metadata": {},
   "outputs": [
    {
     "data": {
      "text/plain": [
       "array([[  373332.  ,     1000.  ,     1000.  ,        6.  ,       31.42,        0.  ],\n",
       "       [54015809.19,    15273.46,    15311.04,       16.62,      440.92,     3143.85],\n",
       "       [68616519.  ,    35000.  ,    35000.  ,       28.99,     1372.97,    41913.62]])"
      ]
     },
     "execution_count": 106,
     "metadata": {},
     "output_type": "execute_result"
    }
   ],
   "source": [
    "temporary_stats[:, column_numeric]"
   ]
  },
  {
   "cell_type": "markdown",
   "id": "689f5526-35d4-42dd-af4b-45de188b9789",
   "metadata": {},
   "source": [
    "##### Funded Amount"
   ]
  },
  {
   "cell_type": "code",
   "execution_count": 107,
   "id": "e3c74bd0-9167-4efc-8e24-3d541e8b11ad",
   "metadata": {},
   "outputs": [
    {
     "data": {
      "text/plain": [
       "array([35000., 30000., 15000., ..., 10000., 10000., 10000.])"
      ]
     },
     "execution_count": 107,
     "metadata": {},
     "output_type": "execute_result"
    }
   ],
   "source": [
    "loan_data_numeric[:,2]"
   ]
  },
  {
   "cell_type": "code",
   "execution_count": 108,
   "id": "b54d78a8-87a8-42ef-95d6-d04ddad5cef4",
   "metadata": {},
   "outputs": [
    {
     "data": {
      "text/plain": [
       "array([35000., 30000., 15000., ..., 10000., 10000., 10000.])"
      ]
     },
     "execution_count": 108,
     "metadata": {},
     "output_type": "execute_result"
    }
   ],
   "source": [
    "loan_data_numeric[:,2]= np.where(loan_data_numeric[:,2] == temporary_fill, \n",
    "                                 temporary_stats[0, column_numeric[2]], \n",
    "                                 loan_data_numeric[:,2])\n",
    "loan_data_numeric[:,2]"
   ]
  },
  {
   "cell_type": "markdown",
   "id": "d50c99b7-b5d7-4a2b-9c5a-2372a322c804",
   "metadata": {},
   "source": [
    "##### Loaned Amount, Intrest Rate, Installment, Total Payemt"
   ]
  },
  {
   "cell_type": "code",
   "execution_count": 109,
   "id": "6954a0f5-2ac8-430a-b97a-d32be56911bc",
   "metadata": {},
   "outputs": [
    {
     "data": {
      "text/plain": [
       "array(['id', 'loan_amnt', 'funded_amnt', 'int_rate', 'installment', 'total_pymnt'], dtype='<U19')"
      ]
     },
     "execution_count": 109,
     "metadata": {},
     "output_type": "execute_result"
    }
   ],
   "source": [
    "header_numeric"
   ]
  },
  {
   "cell_type": "code",
   "execution_count": 110,
   "id": "9d2c699e-8340-4bbe-abc0-20748ac64058",
   "metadata": {},
   "outputs": [
    {
     "data": {
      "text/plain": [
       "'total_pymnt'"
      ]
     },
     "execution_count": 110,
     "metadata": {},
     "output_type": "execute_result"
    }
   ],
   "source": [
    "header_full[column_numeric[5]]"
   ]
  },
  {
   "cell_type": "code",
   "execution_count": 111,
   "id": "0e94f880-4467-4ae1-8e98-4e7a2c808f38",
   "metadata": {},
   "outputs": [],
   "source": [
    "for i in [1,3,4,5]:\n",
    "    loan_data_numeric[:,i]= np.where(loan_data_numeric[:,i] == temporary_fill, \n",
    "                                 temporary_stats[2, column_numeric[i]], \n",
    "                                 loan_data_numeric[:,i])"
   ]
  },
  {
   "cell_type": "code",
   "execution_count": 112,
   "id": "393cf111-f3dc-48ab-b2c1-b2f815fa66fc",
   "metadata": {},
   "outputs": [
    {
     "data": {
      "text/plain": [
       "array([[48010226.  ,    35000.  ,    35000.  ,       13.33,     1184.86,     9452.96],\n",
       "       [57693261.  ,    30000.  ,    30000.  ,       28.99,      938.57,     4679.7 ],\n",
       "       [59432726.  ,    15000.  ,    15000.  ,       28.99,      494.86,     1969.83],\n",
       "       ...,\n",
       "       [50415990.  ,    10000.  ,    10000.  ,       28.99,     1372.97,     2185.64],\n",
       "       [46154151.  ,    35000.  ,    10000.  ,       16.55,      354.3 ,     3199.4 ],\n",
       "       [66055249.  ,    10000.  ,    10000.  ,       28.99,      309.97,      301.9 ]])"
      ]
     },
     "execution_count": 112,
     "metadata": {},
     "output_type": "execute_result"
    }
   ],
   "source": [
    "loan_data_numeric"
   ]
  },
  {
   "cell_type": "markdown",
   "id": "7200d87b-e543-48e3-9907-c70726f92e76",
   "metadata": {},
   "source": [
    "##### Exchange Rate"
   ]
  },
  {
   "cell_type": "code",
   "execution_count": 113,
   "id": "711bca6c-b015-49a3-a3a6-3576071465a5",
   "metadata": {},
   "outputs": [
    {
     "data": {
      "text/plain": [
       "array([1.13, 1.12, 1.08, 1.11, 1.1 , 1.12, 1.09, 1.13, 1.13, 1.1 , 1.06, 1.09])"
      ]
     },
     "execution_count": 113,
     "metadata": {},
     "output_type": "execute_result"
    }
   ],
   "source": [
    "EUR_USD= np.genfromtxt('EUR-USD.csv', delimiter= ',', autostrip= True, skip_header= 1, usecols= 3)\n",
    "EUR_USD"
   ]
  },
  {
   "cell_type": "code",
   "execution_count": 114,
   "id": "4af380b4-b6f9-42be-8615-28b32b907857",
   "metadata": {},
   "outputs": [
    {
     "data": {
      "text/plain": [
       "array([ 5,  0,  9, ...,  6,  4, 12])"
      ]
     },
     "execution_count": 114,
     "metadata": {},
     "output_type": "execute_result"
    }
   ],
   "source": [
    "loan_data_strings[:,0]"
   ]
  },
  {
   "cell_type": "code",
   "execution_count": 115,
   "id": "4fcd1852-97d6-4d40-99c7-af686c8871dc",
   "metadata": {},
   "outputs": [
    {
     "data": {
      "text/plain": [
       "array([1.1 , 1.11, 1.13, ..., 1.12, 1.11, 1.09])"
      ]
     },
     "execution_count": 115,
     "metadata": {},
     "output_type": "execute_result"
    }
   ],
   "source": [
    "exchange_rate= loan_data_strings[:,0]\n",
    "\n",
    "for i in range(1, 13):\n",
    "    exchange_rate= np.where(exchange_rate == i, \n",
    "                            EUR_USD[i-1], \n",
    "                            exchange_rate)\n",
    "    \n",
    "    exchange_rate= np.where(exchange_rate == 0, \n",
    "                            np.mean(EUR_USD), \n",
    "                            exchange_rate)\n",
    "\n",
    "exchange_rate"
   ]
  },
  {
   "cell_type": "code",
   "execution_count": 116,
   "id": "c7224f2e-559f-41b0-a6e8-100e07d1a489",
   "metadata": {},
   "outputs": [
    {
     "data": {
      "text/plain": [
       "(10000,)"
      ]
     },
     "execution_count": 116,
     "metadata": {},
     "output_type": "execute_result"
    }
   ],
   "source": [
    "exchange_rate.shape"
   ]
  },
  {
   "cell_type": "code",
   "execution_count": 117,
   "id": "720d93d9-69c4-41ac-a27a-7545e0276dff",
   "metadata": {},
   "outputs": [
    {
     "data": {
      "text/plain": [
       "(10000, 6)"
      ]
     },
     "execution_count": 117,
     "metadata": {},
     "output_type": "execute_result"
    }
   ],
   "source": [
    "loan_data_numeric.shape"
   ]
  },
  {
   "cell_type": "code",
   "execution_count": 118,
   "id": "31336f12-675a-48f7-a823-be4b94a92c46",
   "metadata": {},
   "outputs": [],
   "source": [
    "exchange_rate= np.reshape(exchange_rate, (10000, 1))"
   ]
  },
  {
   "cell_type": "code",
   "execution_count": 120,
   "id": "c2a844fb-5adf-4b1f-82cd-b0fbc65db1f5",
   "metadata": {},
   "outputs": [
    {
     "data": {
      "text/plain": [
       "array([[48010226.  ,    35000.  ,    35000.  , ...,     1184.86,     9452.96,        1.1 ],\n",
       "       [57693261.  ,    30000.  ,    30000.  , ...,      938.57,     4679.7 ,        1.11],\n",
       "       [59432726.  ,    15000.  ,    15000.  , ...,      494.86,     1969.83,        1.13],\n",
       "       ...,\n",
       "       [50415990.  ,    10000.  ,    10000.  , ...,     1372.97,     2185.64,        1.12],\n",
       "       [46154151.  ,    35000.  ,    10000.  , ...,      354.3 ,     3199.4 ,        1.11],\n",
       "       [66055249.  ,    10000.  ,    10000.  , ...,      309.97,      301.9 ,        1.09]])"
      ]
     },
     "execution_count": 120,
     "metadata": {},
     "output_type": "execute_result"
    }
   ],
   "source": [
    "loan_data_numeric= np.hstack((loan_data_numeric, exchange_rate))\n",
    "loan_data_numeric"
   ]
  },
  {
   "cell_type": "code",
   "execution_count": 122,
   "id": "3f5f1d76-a1c3-4883-b415-1acf8877df7c",
   "metadata": {},
   "outputs": [
    {
     "data": {
      "text/plain": [
       "array(['id', 'loan_amnt', 'funded_amnt', 'int_rate', 'installment', 'total_pymnt', 'exchange_rate'],\n",
       "      dtype='<U19')"
      ]
     },
     "execution_count": 122,
     "metadata": {},
     "output_type": "execute_result"
    }
   ],
   "source": [
    "header_numeric= np.concatenate((header_numeric, np.array(['exchange_rate'])))\n",
    "header_numeric"
   ]
  },
  {
   "cell_type": "markdown",
   "id": "7bdd0a75-febc-4fa3-9488-cb04fbb53b39",
   "metadata": {},
   "source": [
    "##### From USD to EUR"
   ]
  },
  {
   "cell_type": "code",
   "execution_count": 123,
   "id": "fd6b816f-e638-4cff-94c1-21bd626ee67c",
   "metadata": {},
   "outputs": [
    {
     "data": {
      "text/plain": [
       "array(['id', 'loan_amnt', 'funded_amnt', 'int_rate', 'installment', 'total_pymnt', 'exchange_rate'],\n",
       "      dtype='<U19')"
      ]
     },
     "execution_count": 123,
     "metadata": {},
     "output_type": "execute_result"
    }
   ],
   "source": [
    "header_numeric"
   ]
  },
  {
   "cell_type": "code",
   "execution_count": 124,
   "id": "0fd5feee-2e0c-419a-a2a4-580571ab6411",
   "metadata": {},
   "outputs": [],
   "source": [
    "column_dollar= np.array([1,2,4,5])"
   ]
  },
  {
   "cell_type": "code",
   "execution_count": 126,
   "id": "6308c73a-430f-457c-b34e-ac14780b6499",
   "metadata": {},
   "outputs": [
    {
     "data": {
      "text/plain": [
       "array([1.1 , 1.11, 1.13, ..., 1.12, 1.11, 1.09])"
      ]
     },
     "execution_count": 126,
     "metadata": {},
     "output_type": "execute_result"
    }
   ],
   "source": [
    "loan_data_numeric[:, 6]"
   ]
  },
  {
   "cell_type": "code",
   "execution_count": 129,
   "id": "e33ef73d-ada7-4cd2-8eaa-dbe084d4dde3",
   "metadata": {},
   "outputs": [],
   "source": [
    "for i in column_dollar:\n",
    "    loan_data_numeric= np.hstack((loan_data_numeric, np.reshape(loan_data_numeric[:,i] / loan_data_numeric[:,6], (10000, 1))))"
   ]
  },
  {
   "cell_type": "code",
   "execution_count": 130,
   "id": "ebb4c6ea-2241-428b-be51-c3c0fa459294",
   "metadata": {},
   "outputs": [
    {
     "data": {
      "text/plain": [
       "array([[48010226.  ,    35000.  ,    35000.  , ...,    31933.3 ,     1081.04,     8624.69],\n",
       "       [57693261.  ,    30000.  ,    30000.  , ...,    27132.46,      848.86,     4232.39],\n",
       "       [59432726.  ,    15000.  ,    15000.  , ...,    13326.3 ,      439.64,     1750.04],\n",
       "       ...,\n",
       "       [50415990.  ,    10000.  ,    10000.  , ...,     8910.3 ,     1223.36,     1947.47],\n",
       "       [46154151.  ,    35000.  ,    10000.  , ...,     8997.4 ,      318.78,     2878.63],\n",
       "       [66055249.  ,    10000.  ,    10000.  , ...,     9145.8 ,      283.49,      276.11]])"
      ]
     },
     "execution_count": 130,
     "metadata": {},
     "output_type": "execute_result"
    }
   ],
   "source": [
    "loan_data_numeric"
   ]
  },
  {
   "cell_type": "code",
   "execution_count": 131,
   "id": "ccb3a82b-f8a4-493c-87ca-31dccb307469",
   "metadata": {},
   "outputs": [
    {
     "data": {
      "text/plain": [
       "(10000, 11)"
      ]
     },
     "execution_count": 131,
     "metadata": {},
     "output_type": "execute_result"
    }
   ],
   "source": [
    "loan_data_numeric.shape"
   ]
  },
  {
   "cell_type": "markdown",
   "id": "98e29191-1620-4664-847c-98ed3e2096ed",
   "metadata": {},
   "source": [
    "##### Expanding Header"
   ]
  },
  {
   "cell_type": "code",
   "execution_count": 134,
   "id": "d7998727-af79-4f95-be3b-03314d18400c",
   "metadata": {},
   "outputs": [],
   "source": [
    "header_additional= np.array([column_name + '_EUR' for column_name in header_numeric[column_dollar]])"
   ]
  },
  {
   "cell_type": "code",
   "execution_count": 135,
   "id": "e6511fac-500f-479c-b3b3-1abab1bbd1b2",
   "metadata": {},
   "outputs": [
    {
     "data": {
      "text/plain": [
       "array(['loan_amnt_EUR', 'funded_amnt_EUR', 'installment_EUR', 'total_pymnt_EUR'], dtype='<U15')"
      ]
     },
     "execution_count": 135,
     "metadata": {},
     "output_type": "execute_result"
    }
   ],
   "source": [
    "header_additional"
   ]
  },
  {
   "cell_type": "code",
   "execution_count": 136,
   "id": "43ab3cdf-3cf7-46ac-a3b2-a7dbe8e2b378",
   "metadata": {},
   "outputs": [
    {
     "data": {
      "text/plain": [
       "array(['id', 'loan_amnt', 'funded_amnt', 'int_rate', 'installment', 'total_pymnt', 'exchange_rate',\n",
       "       'loan_amnt_EUR', 'funded_amnt_EUR', 'installment_EUR', 'total_pymnt_EUR'], dtype='<U19')"
      ]
     },
     "execution_count": 136,
     "metadata": {},
     "output_type": "execute_result"
    }
   ],
   "source": [
    "header_numeric= np.concatenate((header_numeric, header_additional))\n",
    "header_numeric"
   ]
  },
  {
   "cell_type": "code",
   "execution_count": 137,
   "id": "edd7224a-097b-46e1-887a-2af53b5ae7d0",
   "metadata": {},
   "outputs": [
    {
     "data": {
      "text/plain": [
       "array(['id', 'loan_amnt_USD', 'funded_amnt_USD', 'int_rate', 'installment_USD', 'total_pymnt_USD',\n",
       "       'exchange_rate', 'loan_amnt_EUR', 'funded_amnt_EUR', 'installment_EUR', 'total_pymnt_EUR'],\n",
       "      dtype='<U19')"
      ]
     },
     "execution_count": 137,
     "metadata": {},
     "output_type": "execute_result"
    }
   ],
   "source": [
    "header_numeric[column_dollar]= np.array([column_name + '_USD' for column_name in header_numeric[column_dollar]])\n",
    "header_numeric"
   ]
  },
  {
   "cell_type": "code",
   "execution_count": 138,
   "id": "b6983369-7cde-4908-b677-75495f88169c",
   "metadata": {},
   "outputs": [],
   "source": [
    "columns_index_order= [0,1,7,2,8,3,4,9,5,10,6]"
   ]
  },
  {
   "cell_type": "code",
   "execution_count": 140,
   "id": "35449d34-2ac8-4a32-8eb4-4613c73acb02",
   "metadata": {},
   "outputs": [],
   "source": [
    "header_numeric= header_numeric[columns_index_order]"
   ]
  },
  {
   "cell_type": "code",
   "execution_count": 142,
   "id": "253805d6-d0a2-4580-a2ca-98417882d1a5",
   "metadata": {},
   "outputs": [],
   "source": [
    "loan_data_numeric= loan_data_numeric[:,columns_index_order]"
   ]
  },
  {
   "cell_type": "markdown",
   "id": "a5297156-d14b-480d-a797-457df964265a",
   "metadata": {},
   "source": [
    "##### Intrest Rate"
   ]
  },
  {
   "cell_type": "code",
   "execution_count": 143,
   "id": "0035ceca-6dc8-48e5-87ac-f7345319cb08",
   "metadata": {},
   "outputs": [
    {
     "data": {
      "text/plain": [
       "array(['id', 'loan_amnt_USD', 'loan_amnt_EUR', 'funded_amnt_USD', 'funded_amnt_EUR', 'int_rate',\n",
       "       'installment_USD', 'installment_EUR', 'total_pymnt_USD', 'total_pymnt_EUR', 'exchange_rate'],\n",
       "      dtype='<U19')"
      ]
     },
     "execution_count": 143,
     "metadata": {},
     "output_type": "execute_result"
    }
   ],
   "source": [
    "header_numeric"
   ]
  },
  {
   "cell_type": "code",
   "execution_count": 144,
   "id": "ff4f59e1-c63f-4955-b923-c3fb229f8c0a",
   "metadata": {},
   "outputs": [
    {
     "data": {
      "text/plain": [
       "array([13.33, 28.99, 28.99, ..., 28.99, 16.55, 28.99])"
      ]
     },
     "execution_count": 144,
     "metadata": {},
     "output_type": "execute_result"
    }
   ],
   "source": [
    "loan_data_numeric[:,5]"
   ]
  },
  {
   "cell_type": "code",
   "execution_count": 146,
   "id": "b34e1d54-cee4-488a-ad28-90dcf15c9345",
   "metadata": {},
   "outputs": [],
   "source": [
    "loan_data_numeric[:,5]= loan_data_numeric[:,5]/100"
   ]
  },
  {
   "cell_type": "code",
   "execution_count": 147,
   "id": "55326f2a-7a3d-42a7-b274-07014ff3d472",
   "metadata": {},
   "outputs": [
    {
     "data": {
      "text/plain": [
       "array([0.13, 0.29, 0.29, ..., 0.29, 0.17, 0.29])"
      ]
     },
     "execution_count": 147,
     "metadata": {},
     "output_type": "execute_result"
    }
   ],
   "source": [
    "loan_data_numeric[:,5]"
   ]
  },
  {
   "cell_type": "code",
   "execution_count": 148,
   "id": "c18628b0-93d5-415d-8c9e-685d59da7dab",
   "metadata": {},
   "outputs": [],
   "source": [
    "loan_data_numeric_prep= checkpoint('loan_data_numeric_prep', header_numeric, loan_data_numeric)"
   ]
  },
  {
   "cell_type": "code",
   "execution_count": 149,
   "id": "a0ab334a-e14a-4a63-a0d0-2a50040bd1db",
   "metadata": {},
   "outputs": [
    {
     "data": {
      "text/plain": [
       "array(['id', 'loan_amnt_USD', 'loan_amnt_EUR', 'funded_amnt_USD', 'funded_amnt_EUR', 'int_rate',\n",
       "       'installment_USD', 'installment_EUR', 'total_pymnt_USD', 'total_pymnt_EUR', 'exchange_rate'],\n",
       "      dtype='<U19')"
      ]
     },
     "execution_count": 149,
     "metadata": {},
     "output_type": "execute_result"
    }
   ],
   "source": [
    "loan_data_numeric_prep['header']"
   ]
  },
  {
   "cell_type": "code",
   "execution_count": 150,
   "id": "af77b51a-a29f-4ece-9754-87868ccc9cad",
   "metadata": {},
   "outputs": [
    {
     "data": {
      "text/plain": [
       "array([[48010226.  ,    35000.  ,    31933.3 , ...,     9452.96,     8624.69,        1.1 ],\n",
       "       [57693261.  ,    30000.  ,    27132.46, ...,     4679.7 ,     4232.39,        1.11],\n",
       "       [59432726.  ,    15000.  ,    13326.3 , ...,     1969.83,     1750.04,        1.13],\n",
       "       ...,\n",
       "       [50415990.  ,    10000.  ,     8910.3 , ...,     2185.64,     1947.47,        1.12],\n",
       "       [46154151.  ,    35000.  ,    31490.9 , ...,     3199.4 ,     2878.63,        1.11],\n",
       "       [66055249.  ,    10000.  ,     9145.8 , ...,      301.9 ,      276.11,        1.09]])"
      ]
     },
     "execution_count": 150,
     "metadata": {},
     "output_type": "execute_result"
    }
   ],
   "source": [
    "loan_data_numeric_prep['data']"
   ]
  },
  {
   "cell_type": "code",
   "execution_count": 151,
   "id": "fda6bd30-d83c-438b-83a2-fd3e3949875e",
   "metadata": {},
   "outputs": [
    {
     "data": {
      "text/plain": [
       "True"
      ]
     },
     "execution_count": 151,
     "metadata": {},
     "output_type": "execute_result"
    }
   ],
   "source": [
    "np.array_equal(loan_data_numeric_prep['data'], loan_data_numeric)"
   ]
  },
  {
   "cell_type": "code",
   "execution_count": 152,
   "id": "471c1f53-1247-4bce-b9a0-12729861c723",
   "metadata": {},
   "outputs": [
    {
     "data": {
      "text/plain": [
       "True"
      ]
     },
     "execution_count": 152,
     "metadata": {},
     "output_type": "execute_result"
    }
   ],
   "source": [
    "np.array_equal(header_numeric, loan_data_numeric_prep['header'])"
   ]
  },
  {
   "cell_type": "markdown",
   "id": "fef3eb69-b831-4042-b9e2-8c0bda948ce6",
   "metadata": {},
   "source": [
    "##### Combining preprocessed data"
   ]
  },
  {
   "cell_type": "code",
   "execution_count": 153,
   "id": "952d1779-c0c8-4583-a7a7-87068b38be02",
   "metadata": {},
   "outputs": [
    {
     "data": {
      "text/plain": [
       "(10000, 11)"
      ]
     },
     "execution_count": 153,
     "metadata": {},
     "output_type": "execute_result"
    }
   ],
   "source": [
    "loan_data_numeric_prep['data'].shape"
   ]
  },
  {
   "cell_type": "code",
   "execution_count": 155,
   "id": "d0bdf1b8-700b-4dac-bec2-637114c9fbdd",
   "metadata": {},
   "outputs": [
    {
     "data": {
      "text/plain": [
       "(10000, 6)"
      ]
     },
     "execution_count": 155,
     "metadata": {},
     "output_type": "execute_result"
    }
   ],
   "source": [
    "loan_data_strings_prep['data'].shape"
   ]
  },
  {
   "cell_type": "code",
   "execution_count": 158,
   "id": "5e3dea35-0539-406e-8682-43ccb967408a",
   "metadata": {},
   "outputs": [],
   "source": [
    "loan_data= np.hstack((loan_data_numeric_prep['data'], loan_data_strings_prep['data']))"
   ]
  },
  {
   "cell_type": "code",
   "execution_count": 159,
   "id": "d54b4176-540a-49bd-8a90-c1fbb69e3c49",
   "metadata": {},
   "outputs": [
    {
     "data": {
      "text/plain": [
       "array([[48010226.  ,    35000.  ,    31933.3 , ...,       13.  ,        1.  ,        1.  ],\n",
       "       [57693261.  ,    30000.  ,    27132.46, ...,        5.  ,        1.  ,        4.  ],\n",
       "       [59432726.  ,    15000.  ,    13326.3 , ...,       10.  ,        1.  ,        4.  ],\n",
       "       ...,\n",
       "       [50415990.  ,    10000.  ,     8910.3 , ...,        5.  ,        1.  ,        1.  ],\n",
       "       [46154151.  ,    35000.  ,    31490.9 , ...,       17.  ,        1.  ,        3.  ],\n",
       "       [66055249.  ,    10000.  ,     9145.8 , ...,        4.  ,        0.  ,        3.  ]])"
      ]
     },
     "execution_count": 159,
     "metadata": {},
     "output_type": "execute_result"
    }
   ],
   "source": [
    "loan_data"
   ]
  },
  {
   "cell_type": "code",
   "execution_count": 160,
   "id": "28db06fc-d40a-4665-bf18-37c2fbc0ff5a",
   "metadata": {},
   "outputs": [
    {
     "data": {
      "text/plain": [
       "0"
      ]
     },
     "execution_count": 160,
     "metadata": {},
     "output_type": "execute_result"
    }
   ],
   "source": [
    "np.isnan(loan_data).sum()"
   ]
  },
  {
   "cell_type": "code",
   "execution_count": 162,
   "id": "41f28a1f-4fe3-4663-8aa9-c50bb9a94f71",
   "metadata": {},
   "outputs": [],
   "source": [
    "header_full= np.concatenate((loan_data_numeric_prep['header'], loan_data_strings_prep['header']))"
   ]
  },
  {
   "cell_type": "code",
   "execution_count": 163,
   "id": "88efc50c-8c08-49d9-aa40-3a916d9713a3",
   "metadata": {},
   "outputs": [
    {
     "data": {
      "text/plain": [
       "array(['id', 'loan_amnt_USD', 'loan_amnt_EUR', 'funded_amnt_USD', 'funded_amnt_EUR', 'int_rate',\n",
       "       'installment_USD', 'installment_EUR', 'total_pymnt_USD', 'total_pymnt_EUR', 'exchange_rate',\n",
       "       'issue_date', 'loan_status', 'term_months', 'sub_grade', 'verification_status',\n",
       "       'state_address'], dtype='<U19')"
      ]
     },
     "execution_count": 163,
     "metadata": {},
     "output_type": "execute_result"
    }
   ],
   "source": [
    "header_full"
   ]
  },
  {
   "cell_type": "markdown",
   "id": "acaa99b7-8983-4b13-9cbb-04ed5c7a60ab",
   "metadata": {},
   "source": [
    "##### Sorting the dataset"
   ]
  },
  {
   "cell_type": "code",
   "execution_count": 167,
   "id": "af016d55-3e42-4a7f-b334-b4c2ec50e6cc",
   "metadata": {},
   "outputs": [
    {
     "data": {
      "text/plain": [
       "array([[  373332.  ,     9950.  ,     9038.08, ...,       21.  ,        0.  ,        1.  ],\n",
       "       [  575239.  ,    12000.  ,    10900.2 , ...,       25.  ,        1.  ,        2.  ],\n",
       "       [  707689.  ,    10000.  ,     8924.3 , ...,       13.  ,        1.  ,        0.  ],\n",
       "       ...,\n",
       "       [68614880.  ,     5600.  ,     5121.65, ...,        8.  ,        1.  ,        1.  ],\n",
       "       [68615915.  ,     4000.  ,     3658.32, ...,       10.  ,        1.  ,        2.  ],\n",
       "       [68616519.  ,    21600.  ,    19754.93, ...,        3.  ,        0.  ,        2.  ]])"
      ]
     },
     "execution_count": 167,
     "metadata": {},
     "output_type": "execute_result"
    }
   ],
   "source": [
    "loan_data= loan_data[np.argsort(loan_data[:,0])]\n",
    "loan_data"
   ]
  },
  {
   "cell_type": "code",
   "execution_count": 168,
   "id": "154423f5-70a2-4626-a253-89d266dc8fcf",
   "metadata": {},
   "outputs": [
    {
     "data": {
      "text/plain": [
       "array([   0,    1,    2, ..., 9997, 9998, 9999], dtype=int64)"
      ]
     },
     "execution_count": 168,
     "metadata": {},
     "output_type": "execute_result"
    }
   ],
   "source": [
    "np.argsort(loan_data[:,0])"
   ]
  },
  {
   "cell_type": "code",
   "execution_count": 170,
   "id": "e93f847f-b4c8-42ee-9898-c2942762aca8",
   "metadata": {},
   "outputs": [
    {
     "data": {
      "text/plain": [
       "array([['id', 'loan_amnt_USD', 'loan_amnt_EUR', ..., 'sub_grade', 'verification_status',\n",
       "        'state_address'],\n",
       "       ['373332.0', '9950.0', '9038.082814338286', ..., '21.0', '0.0', '1.0'],\n",
       "       ['575239.0', '12000.0', '10900.20037910145', ..., '25.0', '1.0', '2.0'],\n",
       "       ...,\n",
       "       ['68614880.0', '5600.0', '5121.647851612413', ..., '8.0', '1.0', '1.0'],\n",
       "       ['68615915.0', '4000.0', '3658.319894008867', ..., '10.0', '1.0', '2.0'],\n",
       "       ['68616519.0', '21600.0', '19754.927427647883', ..., '3.0', '0.0', '2.0']], dtype='<U32')"
      ]
     },
     "execution_count": 170,
     "metadata": {},
     "output_type": "execute_result"
    }
   ],
   "source": [
    "loan_data= np.vstack((header_full, loan_data))\n",
    "loan_data"
   ]
  },
  {
   "cell_type": "code",
   "execution_count": 171,
   "id": "e270a1b3-2f57-418a-accc-8b4de54bf930",
   "metadata": {},
   "outputs": [],
   "source": [
    "np.savetxt('loan_data_prep.csv', \n",
    "           loan_data, \n",
    "           fmt= '%s', \n",
    "           delimiter= ',')"
   ]
  },
  {
   "cell_type": "code",
   "execution_count": null,
   "id": "8580f0db-87b5-4823-91dd-fccbb0261972",
   "metadata": {},
   "outputs": [],
   "source": []
  }
 ],
 "metadata": {
  "kernelspec": {
   "display_name": "Python 3 (ipykernel)",
   "language": "python",
   "name": "python3"
  },
  "language_info": {
   "codemirror_mode": {
    "name": "ipython",
    "version": 3
   },
   "file_extension": ".py",
   "mimetype": "text/x-python",
   "name": "python",
   "nbconvert_exporter": "python",
   "pygments_lexer": "ipython3",
   "version": "3.11.7"
  }
 },
 "nbformat": 4,
 "nbformat_minor": 5
}
